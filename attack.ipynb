{
 "cells": [
  {
   "cell_type": "code",
   "execution_count": 1,
   "metadata": {
    "ExecutionIndicator": {
     "show": true
    },
    "execution": {
     "iopub.execute_input": "2025-05-30T07:08:20.071363Z",
     "iopub.status.busy": "2025-05-30T07:08:20.071063Z",
     "iopub.status.idle": "2025-05-30T07:08:23.436244Z",
     "shell.execute_reply": "2025-05-30T07:08:23.435734Z",
     "shell.execute_reply.started": "2025-05-30T07:08:20.071348Z"
    },
    "tags": []
   },
   "outputs": [
    {
     "data": {
      "text/plain": [
       "<torch._C.Generator at 0x7f9848559650>"
      ]
     },
     "execution_count": 1,
     "metadata": {},
     "output_type": "execute_result"
    }
   ],
   "source": [
    "import pandas\n",
    "import torch\n",
    "import json\n",
    "from tqdm import tqdm\n",
    "\n",
    "from torch.utils.data import Dataset\n",
    "from torch.utils.data import DataLoader\n",
    "from torch import optim\n",
    "import torch.nn as nn\n",
    "\n",
    "from torchvision.transforms.functional import to_pil_image\n",
    "import os\n",
    "\n",
    "torch.manual_seed(42)"
   ]
  },
  {
   "cell_type": "code",
   "execution_count": 72,
   "metadata": {
    "ExecutionIndicator": {
     "show": true
    },
    "execution": {
     "iopub.execute_input": "2025-05-23T08:55:10.064339Z",
     "iopub.status.busy": "2025-05-23T08:55:10.063999Z",
     "iopub.status.idle": "2025-05-23T08:55:10.069513Z",
     "shell.execute_reply": "2025-05-23T08:55:10.069102Z",
     "shell.execute_reply.started": "2025-05-23T08:55:10.064321Z"
    },
    "tags": []
   },
   "outputs": [
    {
     "name": "stdout",
     "output_type": "stream",
     "text": [
      "168\n",
      "{'image_path': 'mmmu_cls/image/dev_Accounting_1_1.png', 'image_url': 'https://mitalinlp.oss-cn-hangzhou.aliyuncs.com/rallm/search_decision_KnowB/held_out_data/mmmu_image/dev_Accounting_1_1.png', 'question': 'Each of the following situations relates to a different company. <image 1> For company B, find the missing amounts.', 'answer': '$77,490', 'question_id': 'dev_Accounting_1', 'label': 'Accounting', 'label_id': 0}\n"
     ]
    }
   ],
   "source": [
    "data = []\n",
    "with open('./mmmu_cls/mmmu_cls.jsonl') as f:\n",
    "    for line in f:\n",
    "        data.append(json.loads(line))\n",
    "print(len(data))\n",
    "print(data[0])"
   ]
  },
  {
   "cell_type": "code",
   "execution_count": 2,
   "metadata": {
    "ExecutionIndicator": {
     "show": true
    },
    "execution": {
     "iopub.execute_input": "2025-05-30T07:08:25.578490Z",
     "iopub.status.busy": "2025-05-30T07:08:25.578039Z",
     "iopub.status.idle": "2025-05-30T07:08:25.585400Z",
     "shell.execute_reply": "2025-05-30T07:08:25.584886Z",
     "shell.execute_reply.started": "2025-05-30T07:08:25.578472Z"
    },
    "tags": []
   },
   "outputs": [],
   "source": [
    "from PIL import Image, ImageOps\n",
    "\n",
    "def resize_with_padding(img, new_path, target_size=(512, 512), padding_mode=\"constant\"):\n",
    "    \"\"\"\n",
    "    保持比例调整大小，并用 padding 填充至目标尺寸\n",
    "    Args:\n",
    "        img: PIL Image\n",
    "        target_size: (width, height)\n",
    "        padding_mode: \"constant\"（黑边）/\"edge\"（边缘填充）/\"reflect\"（镜像填充）\n",
    "    Returns:\n",
    "        Resized and padded PIL Image\n",
    "    \"\"\"\n",
    "    img = Image.open(img)\n",
    "    img = img.convert(\"RGB\")\n",
    "    width, height = img.size\n",
    "    target_w, target_h = target_size\n",
    "    \n",
    "    # 计算缩放比例\n",
    "    scale = min(target_w / width, target_h / height)\n",
    "    new_width = int(width * scale)\n",
    "    new_height = int(height * scale)\n",
    "    img = img.resize((new_width, new_height), Image.Resampling.LANCZOS)\n",
    "    \n",
    "    # 计算 padding 位置\n",
    "    delta_w = target_w - new_width\n",
    "    delta_h = target_h - new_height\n",
    "    padding = (delta_w // 2, delta_h // 2, delta_w - (delta_w // 2), delta_h - (delta_h // 2))\n",
    "    \n",
    "    # 应用 padding\n",
    "    if padding_mode == \"constant\":\n",
    "        padded_img = ImageOps.expand(img, padding, fill=(0, 0, 0))  # 黑边\n",
    "    elif padding_mode == \"edge\":\n",
    "        padded_img = ImageOps.expand(img, padding, fill=\"edge\")  # 边缘填充\n",
    "    elif padding_mode == \"reflect\":\n",
    "        padded_img = ImageOps.expand(img, padding, fill=\"reflect\")  # 镜像填充\n",
    "    else:\n",
    "        raise ValueError(\"padding_mode 必须是 'constant'/'edge'/'reflect'\")\n",
    "\n",
    "    padded_img.save(new_path)"
   ]
  },
  {
   "cell_type": "code",
   "execution_count": 3,
   "metadata": {
    "ExecutionIndicator": {
     "show": true
    },
    "execution": {
     "iopub.execute_input": "2025-05-30T07:08:26.887381Z",
     "iopub.status.busy": "2025-05-30T07:08:26.887078Z",
     "iopub.status.idle": "2025-05-30T07:08:26.890085Z",
     "shell.execute_reply": "2025-05-30T07:08:26.889724Z",
     "shell.execute_reply.started": "2025-05-30T07:08:26.887365Z"
    },
    "tags": []
   },
   "outputs": [],
   "source": [
    "def save_image(tensor, path):\n",
    "    os.makedirs(os.path.dirname(path), exist_ok=True)\n",
    "    img = to_pil_image(tensor.to(torch.uint8))\n",
    "    img.save(path)"
   ]
  },
  {
   "cell_type": "code",
   "execution_count": 4,
   "metadata": {
    "ExecutionIndicator": {
     "show": true
    },
    "execution": {
     "iopub.execute_input": "2025-05-30T07:08:31.873038Z",
     "iopub.status.busy": "2025-05-30T07:08:31.872696Z",
     "iopub.status.idle": "2025-05-30T07:08:54.478173Z",
     "shell.execute_reply": "2025-05-30T07:08:54.477574Z",
     "shell.execute_reply.started": "2025-05-30T07:08:31.873018Z"
    },
    "tags": []
   },
   "outputs": [
    {
     "name": "stderr",
     "output_type": "stream",
     "text": [
      "100%|██████████| 168/168 [00:00<00:00, 276982.34it/s]\n",
      "100%|██████████| 168/168 [00:22<00:00,  7.46it/s]"
     ]
    },
    {
     "name": "stdout",
     "output_type": "stream",
     "text": [
      "168\n"
     ]
    },
    {
     "name": "stderr",
     "output_type": "stream",
     "text": [
      "\n"
     ]
    }
   ],
   "source": [
    "# Make cls train dataset\n",
    "import cv2\n",
    "reload = False\n",
    "\n",
    "if reload:\n",
    "    with open('mmmu_cls/mmmu_cls_resized.jsonl', 'w') as g:\n",
    "        train = []\n",
    "        for d in tqdm(data, ncols=100):\n",
    "            image_path = d['image_path']\n",
    "            new_resized_path = image_path.replace('/image/', '/resized_image/')\n",
    "            resize_with_padding(image_path, new_resized_path, target_size=(512,512), padding_mode='constant')\n",
    "\n",
    "            d['image_path'] = new_resized_path\n",
    "            g.write(json.dumps(d)+'\\n')\n",
    "\n",
    "            d['image'] = cv2.imread(new_resized_path).tolist()\n",
    "\n",
    "            train.append(d)\n",
    "else:\n",
    "    with open('mmmu_cls/mmmu_cls_resized.jsonl') as f:\n",
    "        lines = list(f.readlines())\n",
    "        train = [json.loads(i) for i in tqdm(lines)]\n",
    "        for i in tqdm(train):\n",
    "            i['image'] = cv2.imread(i['image_path']).tolist()\n",
    "            \n",
    "\n",
    "print(len(train))"
   ]
  },
  {
   "cell_type": "code",
   "execution_count": 5,
   "metadata": {
    "ExecutionIndicator": {
     "show": true
    },
    "execution": {
     "iopub.execute_input": "2025-05-30T07:08:57.155502Z",
     "iopub.status.busy": "2025-05-30T07:08:57.155278Z",
     "iopub.status.idle": "2025-05-30T07:08:57.161122Z",
     "shell.execute_reply": "2025-05-30T07:08:57.160591Z",
     "shell.execute_reply.started": "2025-05-30T07:08:57.155487Z"
    },
    "tags": []
   },
   "outputs": [
    {
     "name": "stdout",
     "output_type": "stream",
     "text": [
      "11\n"
     ]
    }
   ],
   "source": [
    "class MMMUDataset(Dataset):\n",
    "    def __init__(self, data_list):\n",
    "        super().__init__()\n",
    "        self.data = data_list\n",
    "        self.len = len(data_list)\n",
    "\n",
    "    def __getitem__(self, index):\n",
    "        return {\n",
    "            'label': self.data[index]['label_id'],\n",
    "            'feature': torch.tensor(self.data[index]['image']).permute(2, 0, 1).float(),\n",
    "            'image_path': self.data[index]['image_path']\n",
    "        }\n",
    "\n",
    "    def __len__(self):\n",
    "        return self.len\n",
    "    \n",
    "\n",
    "def get_mnist_loaders(batch_size, shuffle):\n",
    "    train_dataset = MMMUDataset(train)\n",
    "    # test_dataset = MMMUDataset(test)\n",
    "\n",
    "    train_dataloader = DataLoader(train_dataset, \n",
    "                                batch_size=batch_size,\n",
    "                                shuffle=shuffle)\n",
    "\n",
    "    # test_dataloader = DataLoader(test_dataset, \n",
    "                                # batch_size=batch_size,\n",
    "                                # shuffle=shuffle)\n",
    "    test_dataloader = None\n",
    "    return train_dataloader, test_dataloader\n",
    "\n",
    "\n",
    "train_dataloader, _ = get_mnist_loaders(batch_size=16, shuffle=True)\n",
    "print(len(train_dataloader))"
   ]
  },
  {
   "cell_type": "code",
   "execution_count": 6,
   "metadata": {
    "ExecutionIndicator": {
     "show": true
    },
    "execution": {
     "iopub.execute_input": "2025-05-30T07:09:10.198224Z",
     "iopub.status.busy": "2025-05-30T07:09:10.197892Z",
     "iopub.status.idle": "2025-05-30T07:09:10.205600Z",
     "shell.execute_reply": "2025-05-30T07:09:10.205132Z",
     "shell.execute_reply.started": "2025-05-30T07:09:10.198207Z"
    },
    "tags": []
   },
   "outputs": [],
   "source": [
    "class SimpleCNN(nn.Module):\n",
    "    def __init__(self, num_classes=5):\n",
    "        super(SimpleCNN, self).__init__()\n",
    "\n",
    "        self.features = nn.Sequential(\n",
    "            # Block 1\n",
    "            nn.Conv2d(3, 64, kernel_size=3, padding=1),\n",
    "            nn.BatchNorm2d(64),\n",
    "            nn.ReLU(),\n",
    "            nn.Conv2d(64, 64, kernel_size=3, padding=1),\n",
    "            nn.BatchNorm2d(64),\n",
    "            nn.ReLU(),\n",
    "            nn.MaxPool2d(kernel_size=2, stride=2),  # (64, 256, 256)\n",
    "\n",
    "            # Block 2\n",
    "            nn.Conv2d(64, 128, kernel_size=3, padding=1),\n",
    "            nn.BatchNorm2d(128),\n",
    "            nn.ReLU(),\n",
    "            nn.Conv2d(128, 128, kernel_size=3, padding=1),\n",
    "            nn.BatchNorm2d(128),\n",
    "            nn.ReLU(),\n",
    "            nn.MaxPool2d(kernel_size=2, stride=2),  # (128, 128, 128)\n",
    "\n",
    "            # Block 3\n",
    "            nn.Conv2d(128, 256, kernel_size=3, padding=1),\n",
    "            nn.BatchNorm2d(256),\n",
    "            nn.ReLU(),\n",
    "            nn.Conv2d(256, 256, kernel_size=3, padding=1),\n",
    "            nn.BatchNorm2d(256),\n",
    "            nn.ReLU(),\n",
    "            nn.MaxPool2d(kernel_size=2, stride=2),  # (256, 64, 64)\n",
    "\n",
    "            # Block 4\n",
    "            nn.Conv2d(256, 512, kernel_size=3, padding=1),\n",
    "            nn.BatchNorm2d(512),\n",
    "            nn.ReLU(),\n",
    "            nn.Conv2d(512, 512, kernel_size=3, padding=1),\n",
    "            nn.BatchNorm2d(512),\n",
    "            nn.ReLU(),\n",
    "            nn.MaxPool2d(kernel_size=2, stride=2),  # (512, 32, 32)\n",
    "        )\n",
    "\n",
    "        self.classifier = nn.Sequential(\n",
    "            nn.AdaptiveAvgPool2d((16, 16)),  # 固定输出尺寸为 16x16\n",
    "            nn.Flatten(),\n",
    "            nn.Linear(512 * 16 * 16, 4096),\n",
    "            nn.ReLU(),\n",
    "            nn.Dropout(0.5),\n",
    "            nn.Linear(4096, 2048),\n",
    "            nn.ReLU(),\n",
    "            nn.Dropout(0.5),\n",
    "            nn.Linear(2048, num_classes),\n",
    "            nn.Softmax(dim=1)\n",
    "        )\n",
    "\n",
    "    def forward(self, x):\n",
    "        x = self.features(x)\n",
    "        x = self.classifier(x)\n",
    "        return x"
   ]
  },
  {
   "cell_type": "code",
   "execution_count": 7,
   "metadata": {
    "ExecutionIndicator": {
     "show": true
    },
    "execution": {
     "iopub.execute_input": "2025-05-30T07:09:11.721092Z",
     "iopub.status.busy": "2025-05-30T07:09:11.720839Z",
     "iopub.status.idle": "2025-05-30T07:09:11.726244Z",
     "shell.execute_reply": "2025-05-30T07:09:11.725678Z",
     "shell.execute_reply.started": "2025-05-30T07:09:11.721075Z"
    },
    "tags": []
   },
   "outputs": [],
   "source": [
    "loss_fn = nn.CrossEntropyLoss(reduction='mean')\n",
    "\n",
    "def train(model, device, train_loader, optimizer, epoch):\n",
    "    model.train()\n",
    "    train_loss = 0\n",
    "    correct = 0\n",
    "    for batch in tqdm(train_loader, desc=f\"Epoch {epoch}\"):\n",
    "        data = batch['feature']\n",
    "        target = batch['label']\n",
    "\n",
    "        data, target = data.to(device), target.to(device)\n",
    "        optimizer.zero_grad()\n",
    "        output = model(data)\n",
    "        loss = loss_fn(output, target)\n",
    "        loss.backward()\n",
    "        optimizer.step()\n",
    "        \n",
    "        train_loss += loss.item()\n",
    "        pred = output.argmax(dim=1, keepdim=True)\n",
    "        correct += pred.eq(target.view_as(pred)).sum().item()\n",
    "        \n",
    "        # print(f\"\\tTrain loss: {loss.item()}\", end='')\n",
    "    \n",
    "    train_loss /= len(train_loader.dataset)\n",
    "    accuracy = 100. * correct / len(train_loader.dataset)\n",
    "    print(f\"Train set: Average loss: {train_loss:.4f}, Accuracy: {correct}/{len(train_loader.dataset)} ({accuracy:.2f}%)\")"
   ]
  },
  {
   "cell_type": "code",
   "execution_count": 8,
   "metadata": {
    "execution": {
     "iopub.execute_input": "2025-05-30T07:09:13.326822Z",
     "iopub.status.busy": "2025-05-30T07:09:13.326507Z",
     "iopub.status.idle": "2025-05-30T07:09:13.330965Z",
     "shell.execute_reply": "2025-05-30T07:09:13.330454Z",
     "shell.execute_reply.started": "2025-05-30T07:09:13.326805Z"
    },
    "tags": []
   },
   "outputs": [],
   "source": [
    "@torch.no_grad()\n",
    "def test(model, device, test_loader):\n",
    "    model.eval()\n",
    "    test_loss = 0\n",
    "    correct = 0\n",
    "    for batch in test_loader:\n",
    "        data = batch['feature']\n",
    "        target = batch['label']\n",
    "\n",
    "        data, target = data.to(device), target.to(device)\n",
    "        output = model(data)\n",
    "        test_loss += loss_fn(output, target).item()\n",
    "        pred = output.argmax(dim=1, keepdim=True)\n",
    "        correct += pred.eq(target.view_as(pred)).sum().item()\n",
    "\n",
    "    test_loss /= len(test_loader.dataset)\n",
    "    accuracy = 100. * correct / len(test_loader.dataset)\n",
    "    print(f\"Test set: Average loss: {test_loss:.4f}, Accuracy: {correct}/{len(test_loader.dataset)} ({accuracy:.2f}%)\")\n",
    "    return accuracy"
   ]
  },
  {
   "cell_type": "code",
   "execution_count": 9,
   "metadata": {
    "ExecutionIndicator": {
     "show": true
    },
    "execution": {
     "iopub.execute_input": "2025-05-30T07:09:16.635881Z",
     "iopub.status.busy": "2025-05-30T07:09:16.635575Z",
     "iopub.status.idle": "2025-05-30T07:09:22.678113Z",
     "shell.execute_reply": "2025-05-30T07:09:22.677641Z",
     "shell.execute_reply.started": "2025-05-30T07:09:16.635866Z"
    },
    "tags": []
   },
   "outputs": [
    {
     "name": "stdout",
     "output_type": "stream",
     "text": [
      "cuda\n",
      "Weights loaded\n"
     ]
    }
   ],
   "source": [
    "epochs = 20\n",
    "lr = 0.00001\n",
    "# momentum = 0.9\n",
    "\n",
    "if torch.backends.mps.is_available():\n",
    "    device = torch.device(\"mps\")  # Apple Metal (M1/M2)\n",
    "elif torch.cuda.is_available():\n",
    "    device = torch.device(\"cuda\")  # NVIDIA CUDA\n",
    "else:\n",
    "    device = torch.device(\"cpu\")  # 回退到 CPU\n",
    "print(device)\n",
    "\n",
    "model = SimpleCNN().to(device)\n",
    "optimizer = optim.AdamW(model.parameters(), lr=lr)\n",
    "\n",
    "\n",
    "# for epoch in range(1, epochs + 1):\n",
    "#     train(model, device, train_dataloader, optimizer, epoch)\n",
    "    \n",
    "# torch.save(model.state_dict(), \"ckpt/state_dict_0522.pth\")\n",
    "\n",
    "model.load_state_dict(torch.load(\"ckpt/state_dict_0522.pth\"), strict=True)\n",
    "print(\"Weights loaded\")"
   ]
  },
  {
   "cell_type": "code",
   "execution_count": 10,
   "metadata": {
    "ExecutionIndicator": {
     "show": true
    },
    "execution": {
     "iopub.execute_input": "2025-05-30T07:09:30.398658Z",
     "iopub.status.busy": "2025-05-30T07:09:30.398368Z",
     "iopub.status.idle": "2025-05-30T07:09:30.403866Z",
     "shell.execute_reply": "2025-05-30T07:09:30.403432Z",
     "shell.execute_reply.started": "2025-05-30T07:09:30.398644Z"
    },
    "tags": []
   },
   "outputs": [],
   "source": [
    "class Attacker():\n",
    "    def __init__(self, model) -> None:\n",
    "        ...\n",
    "\n",
    "\n",
    "class PGDAttacker(Attacker):\n",
    "    def __init__(self, model, c=0.01, steps=10, norm=\"Linf\"):\n",
    "        \"\"\"\n",
    "        Params:\n",
    "            model: 目标模型\n",
    "            c: 单步攻击步长\n",
    "            steps: 攻击迭代次数\n",
    "            norm: 范数类型 (\"Linf\" 或 \"L1\")\n",
    "            max_norm: 允许最大范数大小，否则normalize\n",
    "        \"\"\"\n",
    "        self.model = model\n",
    "        self.c = c\n",
    "        self.steps = steps\n",
    "        self.norm = norm\n",
    "        self.max_norm = 128\n",
    "        \n",
    "        if self.norm not in [\"Linf\", \"L1\"]:\n",
    "            raise ValueError(\"Norm must be either 'Linf' or 'L1'\")\n",
    "    \n",
    "    def perturb(self, x, y):\n",
    "        \"\"\"\n",
    "        生成对抗样本\n",
    "        \n",
    "        Params:\n",
    "            x: 原始输入样本 (B, C, H, W)\n",
    "            y: 真实标签 (B,)\n",
    "            \n",
    "        Returns:\n",
    "            adv_x: 对抗样本 (B, C, H, W)\n",
    "        \"\"\"\n",
    "        x_adv = x.clone().detach().requires_grad_(True)\n",
    "        \n",
    "        for _ in range(self.steps):\n",
    "            outputs = self.model(x_adv)\n",
    "            loss = loss_fn(outputs, y)\n",
    "            loss.backward()\n",
    "            \n",
    "            # 梯度Attack值\n",
    "            grad_adv = x_adv.grad.data.sign() if self.norm == \"Linf\" else self._l1_grad_clip(x_adv.grad.data)\n",
    "            \n",
    "            # 更新对抗样本\n",
    "            x_adv = x_adv.detach() + self.c * grad_adv\n",
    "            x_adv.requires_grad_(True)\n",
    "        \n",
    "        return x_adv.detach()\n",
    "    \n",
    "    def _l1_grad_clip(self, grad):\n",
    "        l1_norm = grad.abs().sum()\n",
    "        if l1_norm > self.max_norm:\n",
    "            # print(f'l1_norm > max_norm {self.max_norm}')\n",
    "            clipped_tensor = grad * (self.max_norm / l1_norm)\n",
    "        else:\n",
    "            # print(f'l1_norm <= max_norm {self.max_norm}')\n",
    "            \n",
    "            clipped_tensor = grad\n",
    "        return clipped_tensor\n"
   ]
  },
  {
   "cell_type": "code",
   "execution_count": null,
   "metadata": {},
   "outputs": [],
   "source": [
    "# L_inf\n",
    "c = 1\n",
    "steps = 10\n",
    "\n",
    "attacker_linf = PGDAttacker(model, c=c, steps=steps, norm=\"Linf\")\n",
    "\n",
    "\n",
    "for batch in tqdm(train_dataloader, ncols=50):\n",
    "    # print(batch.keys())\n",
    "    x = batch['feature']\n",
    "    y = batch['label']\n",
    "    x, y = x.to(device), y.to(device)\n",
    "    \n",
    "    # L_inf对抗样本\n",
    "    adv_linf = attacker_linf.perturb(x, y)\n",
    "    \n",
    "    for b in range(adv_linf.size(0)):\n",
    "        new_path = batch['image_path'][b].replace('resized_image', f'linf_att_image_{c}_{steps}')\n",
    "        save_image(adv_linf[b], new_path)"
   ]
  },
  {
   "cell_type": "code",
   "execution_count": 12,
   "metadata": {
    "ExecutionIndicator": {
     "show": true
    },
    "execution": {
     "iopub.execute_input": "2025-05-30T07:44:08.802295Z",
     "iopub.status.busy": "2025-05-30T07:44:08.801984Z",
     "iopub.status.idle": "2025-05-30T07:47:51.042052Z",
     "shell.execute_reply": "2025-05-30T07:47:51.041617Z",
     "shell.execute_reply.started": "2025-05-30T07:44:08.802280Z"
    },
    "tags": []
   },
   "outputs": [
    {
     "name": "stderr",
     "output_type": "stream",
     "text": [
      "steps: 100: 100%|█| 11/11 [03:42<00:00, 20.20s/it]\n"
     ]
    }
   ],
   "source": [
    "# L_1\n",
    "c = 1e7\n",
    "\n",
    "for steps in [100]:\n",
    "    attacker_l1 = PGDAttacker(model, c=c, steps=steps, norm=\"L1\")\n",
    "\n",
    "    for batch in tqdm(train_dataloader, ncols=50, desc=f\"steps: {steps}\"):\n",
    "        # print(batch.keys())\n",
    "        x = batch['feature']\n",
    "        y = batch['label']\n",
    "        x, y = x.to(device), y.to(device)\n",
    "\n",
    "        # L1对抗样本\n",
    "        adv_l1 = attacker_l1.perturb(x, y)\n",
    "\n",
    "        for b in range(adv_l1.size(0)):\n",
    "            new_path = batch['image_path'][b].replace('resized_image', f'l1_att_image_{c}_{steps}')\n",
    "            save_image(adv_l1[b], new_path)"
   ]
  },
  {
   "cell_type": "code",
   "execution_count": 22,
   "metadata": {
    "ExecutionIndicator": {
     "show": true
    },
    "execution": {
     "iopub.execute_input": "2025-05-29T12:36:34.919775Z",
     "iopub.status.busy": "2025-05-29T12:36:34.919462Z",
     "iopub.status.idle": "2025-05-29T12:36:34.983423Z",
     "shell.execute_reply": "2025-05-29T12:36:34.983036Z",
     "shell.execute_reply.started": "2025-05-29T12:36:34.919757Z"
    },
    "tags": []
   },
   "outputs": [
    {
     "data": {
      "text/plain": [
       "tensor(692.2778, device='cuda:0')"
      ]
     },
     "execution_count": 22,
     "metadata": {},
     "output_type": "execute_result"
    }
   ],
   "source": [
    "(adv_l1 - x).max()"
   ]
  },
  {
   "cell_type": "code",
   "execution_count": null,
   "metadata": {},
   "outputs": [],
   "source": []
  }
 ],
 "metadata": {
  "kernelspec": {
   "display_name": "Python 3 (ipykernel)",
   "language": "python",
   "name": "python3"
  },
  "language_info": {
   "codemirror_mode": {
    "name": "ipython",
    "version": 3
   },
   "file_extension": ".py",
   "mimetype": "text/x-python",
   "name": "python",
   "nbconvert_exporter": "python",
   "pygments_lexer": "ipython3",
   "version": "3.11.11"
  }
 },
 "nbformat": 4,
 "nbformat_minor": 4
}
