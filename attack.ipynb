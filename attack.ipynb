{
 "cells": [
  {
   "cell_type": "code",
   "execution_count": 72,
   "metadata": {
    "ExecutionIndicator": {
     "show": true
    },
    "execution": {
     "iopub.execute_input": "2025-05-23T08:55:10.064339Z",
     "iopub.status.busy": "2025-05-23T08:55:10.063999Z",
     "iopub.status.idle": "2025-05-23T08:55:10.069513Z",
     "shell.execute_reply": "2025-05-23T08:55:10.069102Z",
     "shell.execute_reply.started": "2025-05-23T08:55:10.064321Z"
    },
    "tags": []
   },
   "outputs": [
    {
     "name": "stdout",
     "output_type": "stream",
     "text": [
      "168\n",
      "{'image_path': 'mmmu_cls/image/dev_Accounting_1_1.png', 'image_url': 'https://mitalinlp.oss-cn-hangzhou.aliyuncs.com/rallm/search_decision_KnowB/held_out_data/mmmu_image/dev_Accounting_1_1.png', 'question': 'Each of the following situations relates to a different company. <image 1> For company B, find the missing amounts.', 'answer': '$77,490', 'question_id': 'dev_Accounting_1', 'label': 'Accounting', 'label_id': 0}\n"
     ]
    }
   ],
   "source": [
    "import pandas\n",
    "import torch\n",
    "import json\n",
    "from tqdm import tqdm\n",
    "\n",
    "data = []\n",
    "with open('./mmmu_cls/mmmu_cls.jsonl') as f:\n",
    "    for line in f:\n",
    "        data.append(json.loads(line))\n",
    "print(len(data))\n",
    "print(data[0])"
   ]
  },
  {
   "cell_type": "code",
   "execution_count": 73,
   "metadata": {
    "ExecutionIndicator": {
     "show": true
    },
    "execution": {
     "iopub.execute_input": "2025-05-23T08:55:13.292335Z",
     "iopub.status.busy": "2025-05-23T08:55:13.291999Z",
     "iopub.status.idle": "2025-05-23T08:55:13.297635Z",
     "shell.execute_reply": "2025-05-23T08:55:13.297183Z",
     "shell.execute_reply.started": "2025-05-23T08:55:13.292317Z"
    },
    "tags": []
   },
   "outputs": [],
   "source": [
    "from PIL import Image, ImageOps\n",
    "\n",
    "def resize_with_padding(img, new_path, target_size=(512, 512), padding_mode=\"constant\"):\n",
    "    \"\"\"\n",
    "    保持比例调整大小，并用 padding 填充至目标尺寸\n",
    "    Args:\n",
    "        img: PIL Image\n",
    "        target_size: (width, height)\n",
    "        padding_mode: \"constant\"（黑边）/\"edge\"（边缘填充）/\"reflect\"（镜像填充）\n",
    "    Returns:\n",
    "        Resized and padded PIL Image\n",
    "    \"\"\"\n",
    "    img = Image.open(img)\n",
    "    img = img.convert(\"RGB\")\n",
    "    width, height = img.size\n",
    "    target_w, target_h = target_size\n",
    "    \n",
    "    # 计算缩放比例\n",
    "    scale = min(target_w / width, target_h / height)\n",
    "    new_width = int(width * scale)\n",
    "    new_height = int(height * scale)\n",
    "    img = img.resize((new_width, new_height), Image.Resampling.LANCZOS)\n",
    "    \n",
    "    # 计算 padding 位置\n",
    "    delta_w = target_w - new_width\n",
    "    delta_h = target_h - new_height\n",
    "    padding = (delta_w // 2, delta_h // 2, delta_w - (delta_w // 2), delta_h - (delta_h // 2))\n",
    "    \n",
    "    # 应用 padding\n",
    "    if padding_mode == \"constant\":\n",
    "        padded_img = ImageOps.expand(img, padding, fill=(0, 0, 0))  # 黑边\n",
    "    elif padding_mode == \"edge\":\n",
    "        padded_img = ImageOps.expand(img, padding, fill=\"edge\")  # 边缘填充\n",
    "    elif padding_mode == \"reflect\":\n",
    "        padded_img = ImageOps.expand(img, padding, fill=\"reflect\")  # 镜像填充\n",
    "    else:\n",
    "        raise ValueError(\"padding_mode 必须是 'constant'/'edge'/'reflect'\")\n",
    "\n",
    "    padded_img.save(new_path)"
   ]
  },
  {
   "cell_type": "code",
   "execution_count": 80,
   "metadata": {
    "ExecutionIndicator": {
     "show": true
    },
    "execution": {
     "iopub.execute_input": "2025-05-23T09:03:03.996729Z",
     "iopub.status.busy": "2025-05-23T09:03:03.996441Z",
     "iopub.status.idle": "2025-05-23T09:03:03.999839Z",
     "shell.execute_reply": "2025-05-23T09:03:03.999343Z",
     "shell.execute_reply.started": "2025-05-23T09:03:03.996714Z"
    },
    "tags": []
   },
   "outputs": [],
   "source": [
    "import torch\n",
    "from torchvision.transforms.functional import to_pil_image\n",
    "import os\n",
    "\n",
    "def save_image(tensor, path):\n",
    "    os.makedirs(os.path.dirname(path), exist_ok=True)\n",
    "    img = to_pil_image(tensor.to(torch.uint8))\n",
    "    img.save(path)"
   ]
  },
  {
   "cell_type": "code",
   "execution_count": 74,
   "metadata": {
    "ExecutionIndicator": {
     "show": true
    },
    "execution": {
     "iopub.execute_input": "2025-05-23T08:55:18.903673Z",
     "iopub.status.busy": "2025-05-23T08:55:18.903463Z",
     "iopub.status.idle": "2025-05-23T08:55:54.207995Z",
     "shell.execute_reply": "2025-05-23T08:55:54.207580Z",
     "shell.execute_reply.started": "2025-05-23T08:55:18.903658Z"
    },
    "tags": []
   },
   "outputs": [
    {
     "name": "stderr",
     "output_type": "stream",
     "text": [
      "100%|█████████████████████████████████████████████████████████████| 168/168 [00:35<00:00,  4.76it/s]"
     ]
    },
    {
     "name": "stdout",
     "output_type": "stream",
     "text": [
      "168\n"
     ]
    },
    {
     "name": "stderr",
     "output_type": "stream",
     "text": [
      "\n"
     ]
    }
   ],
   "source": [
    "# Make cls train dataset\n",
    "import cv2\n",
    "reload = True\n",
    "\n",
    "if reload:\n",
    "    with open('mmmu_cls/mmmu_cls_resized.jsonl', 'w') as g:\n",
    "        train = []\n",
    "        for d in tqdm(data, ncols=100):\n",
    "            image_path = d['image_path']\n",
    "            new_resized_path = image_path.replace('/image/', '/resized_image/')\n",
    "            resize_with_padding(image_path, new_resized_path, target_size=(512,512), padding_mode='constant')\n",
    "\n",
    "            d['image_path'] = new_resized_path\n",
    "            g.write(json.dumps(d)+'\\n')\n",
    "\n",
    "            d['image'] = cv2.imread(new_resized_path).tolist()\n",
    "\n",
    "            train.append(d)\n",
    "else:\n",
    "    with open('mmmu_cls/mmmu_cls_resized.jsonl') as f:\n",
    "        lines = list(f.readlines())\n",
    "        train = [json.loads(i) for i in tqdm(lines)]\n",
    "        for i in tqdm(train):\n",
    "            i['image'] = cv2.imread(i['image_path']).tolist()\n",
    "            \n",
    "\n",
    "print(len(train))"
   ]
  },
  {
   "cell_type": "code",
   "execution_count": 82,
   "metadata": {
    "ExecutionIndicator": {
     "show": true
    },
    "execution": {
     "iopub.execute_input": "2025-05-23T09:03:23.302995Z",
     "iopub.status.busy": "2025-05-23T09:03:23.302684Z",
     "iopub.status.idle": "2025-05-23T09:03:23.482643Z",
     "shell.execute_reply": "2025-05-23T09:03:23.482202Z",
     "shell.execute_reply.started": "2025-05-23T09:03:23.302975Z"
    },
    "tags": []
   },
   "outputs": [],
   "source": [
    "save_image(\n",
    "    torch.tensor(train[0]['image']).permute(2,0,1).float(),\n",
    "    'mmmu_cls/linf_att_image/test.jpg'\n",
    ")"
   ]
  },
  {
   "cell_type": "code",
   "execution_count": 89,
   "metadata": {
    "ExecutionIndicator": {
     "show": true
    },
    "execution": {
     "iopub.execute_input": "2025-05-23T09:09:01.016285Z",
     "iopub.status.busy": "2025-05-23T09:09:01.015644Z",
     "iopub.status.idle": "2025-05-23T09:09:01.021675Z",
     "shell.execute_reply": "2025-05-23T09:09:01.021297Z",
     "shell.execute_reply.started": "2025-05-23T09:09:01.016266Z"
    },
    "tags": []
   },
   "outputs": [
    {
     "name": "stdout",
     "output_type": "stream",
     "text": [
      "11\n"
     ]
    }
   ],
   "source": [
    "from torch.utils.data import Dataset \n",
    "from torch.utils.data import DataLoader \n",
    "import torch\n",
    "from torch import optim\n",
    "\n",
    "torch.manual_seed(42)\n",
    "\n",
    "\n",
    "class MMMUDataset(Dataset):\n",
    "    def __init__(self, data_list):\n",
    "        super().__init__()\n",
    "        self.data = data_list\n",
    "        self.len = len(data_list)\n",
    "\n",
    "    def __getitem__(self, index):\n",
    "        return {\n",
    "            'label': self.data[index]['label_id'],\n",
    "            'feature': torch.tensor(self.data[index]['image']).permute(2, 0, 1).float(),\n",
    "            'image_path': self.data[index]['image_path']\n",
    "        }\n",
    "    \n",
    "    def __len__(self):\n",
    "        return self.len\n",
    "    \n",
    "\n",
    "def get_mnist_loaders(batch_size, shuffle):\n",
    "    train_dataset = MMMUDataset(train)\n",
    "    # test_dataset = MMMUDataset(test)\n",
    "\n",
    "    train_dataloader = DataLoader(train_dataset, \n",
    "                                batch_size=batch_size,\n",
    "                                shuffle=shuffle)\n",
    "\n",
    "    # test_dataloader = DataLoader(test_dataset, \n",
    "                                # batch_size=batch_size,\n",
    "                                # shuffle=shuffle)\n",
    "    test_dataloader = None\n",
    "    return train_dataloader, test_dataloader\n",
    "\n",
    "train_dataloader, _ = get_mnist_loaders(batch_size=16, shuffle=True)\n",
    "print(len(train_dataloader))"
   ]
  },
  {
   "cell_type": "code",
   "execution_count": 5,
   "metadata": {
    "ExecutionIndicator": {
     "show": true
    },
    "execution": {
     "iopub.execute_input": "2025-05-23T08:01:35.497193Z",
     "iopub.status.busy": "2025-05-23T08:01:35.496846Z",
     "iopub.status.idle": "2025-05-23T08:01:35.505056Z",
     "shell.execute_reply": "2025-05-23T08:01:35.504564Z",
     "shell.execute_reply.started": "2025-05-23T08:01:35.497172Z"
    },
    "tags": []
   },
   "outputs": [],
   "source": [
    "import torch\n",
    "import torch.nn as nn\n",
    "\n",
    "\n",
    "class SimpleCNN(nn.Module):\n",
    "    def __init__(self, num_classes=5):\n",
    "        super(SimpleCNN, self).__init__()\n",
    "\n",
    "        self.features = nn.Sequential(\n",
    "            # Block 1\n",
    "            nn.Conv2d(3, 64, kernel_size=3, padding=1),\n",
    "            nn.BatchNorm2d(64),\n",
    "            nn.ReLU(),\n",
    "            nn.Conv2d(64, 64, kernel_size=3, padding=1),\n",
    "            nn.BatchNorm2d(64),\n",
    "            nn.ReLU(),\n",
    "            nn.MaxPool2d(kernel_size=2, stride=2),  # (64, 256, 256)\n",
    "\n",
    "            # Block 2\n",
    "            nn.Conv2d(64, 128, kernel_size=3, padding=1),\n",
    "            nn.BatchNorm2d(128),\n",
    "            nn.ReLU(),\n",
    "            nn.Conv2d(128, 128, kernel_size=3, padding=1),\n",
    "            nn.BatchNorm2d(128),\n",
    "            nn.ReLU(),\n",
    "            nn.MaxPool2d(kernel_size=2, stride=2),  # (128, 128, 128)\n",
    "\n",
    "            # Block 3\n",
    "            nn.Conv2d(128, 256, kernel_size=3, padding=1),\n",
    "            nn.BatchNorm2d(256),\n",
    "            nn.ReLU(),\n",
    "            nn.Conv2d(256, 256, kernel_size=3, padding=1),\n",
    "            nn.BatchNorm2d(256),\n",
    "            nn.ReLU(),\n",
    "            nn.MaxPool2d(kernel_size=2, stride=2),  # (256, 64, 64)\n",
    "\n",
    "            # Block 4\n",
    "            nn.Conv2d(256, 512, kernel_size=3, padding=1),\n",
    "            nn.BatchNorm2d(512),\n",
    "            nn.ReLU(),\n",
    "            nn.Conv2d(512, 512, kernel_size=3, padding=1),\n",
    "            nn.BatchNorm2d(512),\n",
    "            nn.ReLU(),\n",
    "            nn.MaxPool2d(kernel_size=2, stride=2),  # (512, 32, 32)\n",
    "        )\n",
    "\n",
    "        self.classifier = nn.Sequential(\n",
    "            nn.AdaptiveAvgPool2d((16, 16)),  # 固定输出尺寸为 16x16\n",
    "            nn.Flatten(),\n",
    "            nn.Linear(512 * 16 * 16, 4096),\n",
    "            nn.ReLU(),\n",
    "            nn.Dropout(0.5),\n",
    "            nn.Linear(4096, 2048),\n",
    "            nn.ReLU(),\n",
    "            nn.Dropout(0.5),\n",
    "            nn.Linear(2048, num_classes),\n",
    "            nn.Softmax(dim=1)\n",
    "        )\n",
    "\n",
    "    def forward(self, x):\n",
    "        x = self.features(x)\n",
    "        x = self.classifier(x)\n",
    "        return x"
   ]
  },
  {
   "cell_type": "code",
   "execution_count": 6,
   "metadata": {
    "ExecutionIndicator": {
     "show": true
    },
    "execution": {
     "iopub.execute_input": "2025-05-23T08:01:38.036054Z",
     "iopub.status.busy": "2025-05-23T08:01:38.035722Z",
     "iopub.status.idle": "2025-05-23T08:01:38.040542Z",
     "shell.execute_reply": "2025-05-23T08:01:38.040078Z",
     "shell.execute_reply.started": "2025-05-23T08:01:38.036035Z"
    },
    "tags": []
   },
   "outputs": [],
   "source": [
    "loss_fn = nn.CrossEntropyLoss(reduction='mean')\n",
    "\n",
    "def train(model, device, train_loader, optimizer, epoch):\n",
    "    model.train()\n",
    "    train_loss = 0\n",
    "    correct = 0\n",
    "    for batch in tqdm(train_loader, desc=f\"Epoch {epoch}\"):\n",
    "        data = batch['feature']\n",
    "        target = batch['label']\n",
    "\n",
    "        data, target = data.to(device), target.to(device)\n",
    "        optimizer.zero_grad()\n",
    "        output = model(data)\n",
    "        loss = loss_fn(output, target)\n",
    "        loss.backward()\n",
    "        optimizer.step()\n",
    "        \n",
    "        train_loss += loss.item()\n",
    "        pred = output.argmax(dim=1, keepdim=True)\n",
    "        correct += pred.eq(target.view_as(pred)).sum().item()\n",
    "        \n",
    "        # print(f\"\\tTrain loss: {loss.item()}\", end='')\n",
    "    \n",
    "    train_loss /= len(train_loader.dataset)\n",
    "    accuracy = 100. * correct / len(train_loader.dataset)\n",
    "    print(f\"Train set: Average loss: {train_loss:.4f}, Accuracy: {correct}/{len(train_loader.dataset)} ({accuracy:.2f}%)\")"
   ]
  },
  {
   "cell_type": "code",
   "execution_count": 7,
   "metadata": {
    "execution": {
     "iopub.execute_input": "2025-05-23T08:01:39.290451Z",
     "iopub.status.busy": "2025-05-23T08:01:39.290152Z",
     "iopub.status.idle": "2025-05-23T08:01:39.294338Z",
     "shell.execute_reply": "2025-05-23T08:01:39.293965Z",
     "shell.execute_reply.started": "2025-05-23T08:01:39.290436Z"
    },
    "tags": []
   },
   "outputs": [],
   "source": [
    "@torch.no_grad()\n",
    "def test(model, device, test_loader):\n",
    "    model.eval()\n",
    "    test_loss = 0\n",
    "    correct = 0\n",
    "    for batch in test_loader:\n",
    "        data = batch['feature']\n",
    "        target = batch['label']\n",
    "\n",
    "        data, target = data.to(device), target.to(device)\n",
    "        output = model(data)\n",
    "        test_loss += loss_fn(output, target).item()\n",
    "        pred = output.argmax(dim=1, keepdim=True)\n",
    "        correct += pred.eq(target.view_as(pred)).sum().item()\n",
    "\n",
    "    test_loss /= len(test_loader.dataset)\n",
    "    accuracy = 100. * correct / len(test_loader.dataset)\n",
    "    print(f\"Test set: Average loss: {test_loss:.4f}, Accuracy: {correct}/{len(test_loader.dataset)} ({accuracy:.2f}%)\")\n",
    "    return accuracy"
   ]
  },
  {
   "cell_type": "code",
   "execution_count": 8,
   "metadata": {
    "ExecutionIndicator": {
     "show": true
    },
    "execution": {
     "iopub.execute_input": "2025-05-23T08:03:42.683647Z",
     "iopub.status.busy": "2025-05-23T08:03:42.683318Z",
     "iopub.status.idle": "2025-05-23T08:03:49.886318Z",
     "shell.execute_reply": "2025-05-23T08:03:49.885845Z",
     "shell.execute_reply.started": "2025-05-23T08:03:42.683627Z"
    },
    "tags": []
   },
   "outputs": [
    {
     "name": "stdout",
     "output_type": "stream",
     "text": [
      "cuda\n",
      "Weights loaded\n"
     ]
    }
   ],
   "source": [
    "epochs = 20\n",
    "lr = 0.00001\n",
    "# momentum = 0.9\n",
    "\n",
    "if torch.backends.mps.is_available():\n",
    "    device = torch.device(\"mps\")  # Apple Metal (M1/M2)\n",
    "elif torch.cuda.is_available():\n",
    "    device = torch.device(\"cuda\")  # NVIDIA CUDA\n",
    "else:\n",
    "    device = torch.device(\"cpu\")  # 回退到 CPU\n",
    "print(device)\n",
    "\n",
    "model = SimpleCNN().to(device)\n",
    "optimizer = optim.AdamW(model.parameters(), lr=lr)\n",
    "\n",
    "\n",
    "# for epoch in range(1, epochs + 1):\n",
    "#     train(model, device, train_dataloader, optimizer, epoch)\n",
    "    \n",
    "# torch.save(model.state_dict(), \"ckpt/state_dict_0522.pth\")\n",
    "\n",
    "model.load_state_dict(torch.load(\"ckpt/state_dict_0522.pth\"), strict=True)\n",
    "print(\"Weights loaded\")"
   ]
  },
  {
   "cell_type": "markdown",
   "metadata": {},
   "source": [
    "# Q2"
   ]
  },
  {
   "cell_type": "code",
   "execution_count": 94,
   "metadata": {
    "ExecutionIndicator": {
     "show": true
    },
    "execution": {
     "iopub.execute_input": "2025-05-23T09:12:45.769849Z",
     "iopub.status.busy": "2025-05-23T09:12:45.769467Z",
     "iopub.status.idle": "2025-05-23T09:12:45.775968Z",
     "shell.execute_reply": "2025-05-23T09:12:45.775435Z",
     "shell.execute_reply.started": "2025-05-23T09:12:45.769832Z"
    },
    "tags": []
   },
   "outputs": [],
   "source": [
    "class Attacker():\n",
    "    def __init__(self, model) -> None:\n",
    "        ...\n",
    "\n",
    "\n",
    "class PGDAttacker(Attacker):\n",
    "    def __init__(self, model, c=0.01, steps=10, norm=\"Linf\"):\n",
    "        \"\"\"\n",
    "        Params:\n",
    "            model: 目标模型\n",
    "            c: 单步攻击步长\n",
    "            steps: 攻击迭代次数\n",
    "            norm: 范数类型 (\"Linf\" 或 \"L1\")\n",
    "            max_norm: 允许最大范数大小，否则normalize\n",
    "        \"\"\"\n",
    "        self.model = model\n",
    "        self.c = c\n",
    "        self.steps = steps\n",
    "        self.norm = norm\n",
    "        self.max_norm = 128\n",
    "        \n",
    "        if self.norm not in [\"Linf\", \"L1\"]:\n",
    "            raise ValueError(\"Norm must be either 'Linf' or 'L1'\")\n",
    "    \n",
    "    def perturb(self, x, y):\n",
    "        \"\"\"\n",
    "        生成对抗样本\n",
    "        \n",
    "        Params:\n",
    "            x: 原始输入样本 (B, C, H, W)\n",
    "            y: 真实标签 (B,)\n",
    "            \n",
    "        Returns:\n",
    "            adv_x: 对抗样本 (B, C, H, W)\n",
    "        \"\"\"\n",
    "        x_adv = x.clone().detach().requires_grad_(True)\n",
    "        \n",
    "        for _ in range(self.steps):\n",
    "            outputs = self.model(x_adv)\n",
    "            loss = loss_fn(outputs, y)\n",
    "            loss.backward()\n",
    "            \n",
    "            # 梯度Attack值\n",
    "            grad_adv = x_adv.grad.data.sign() if self.norm == \"Linf\" else self._l1_grad_clip(x_adv.grad.data)\n",
    "            \n",
    "            # 更新对抗样本\n",
    "            x_adv = x_adv.detach() + self.c * grad_adv\n",
    "            x_adv.requires_grad_(True)\n",
    "        \n",
    "        return x_adv.detach()\n",
    "    \n",
    "    def _l1_grad_clip(self, grad):\n",
    "        l1_norm = grad.abs().sum()\n",
    "        if l1_norm > self.max_norm:\n",
    "            print(f'l1_norm > max_norm {self.max_norm}')\n",
    "            clipped_tensor = grad * (self.max_norm / l1_norm)\n",
    "        else:\n",
    "            print(f'l1_norm <= max_norm {self.max_norm}')\n",
    "            \n",
    "            clipped_tensor = grad\n",
    "        return clipped_tensor\n"
   ]
  },
  {
   "cell_type": "code",
   "execution_count": 97,
   "metadata": {
    "ExecutionIndicator": {
     "show": true
    },
    "execution": {
     "iopub.execute_input": "2025-05-23T09:17:26.956809Z",
     "iopub.status.busy": "2025-05-23T09:17:26.956594Z",
     "iopub.status.idle": "2025-05-23T09:18:59.851195Z",
     "shell.execute_reply": "2025-05-23T09:18:59.850739Z",
     "shell.execute_reply.started": "2025-05-23T09:17:26.956793Z"
    },
    "tags": []
   },
   "outputs": [
    {
     "name": "stderr",
     "output_type": "stream",
     "text": [
      "  0%|                      | 0/11 [00:00<?, ?it/s]"
     ]
    },
    {
     "name": "stdout",
     "output_type": "stream",
     "text": [
      "l1_norm <= max_norm 128\n",
      "l1_norm <= max_norm 128\n",
      "l1_norm <= max_norm 128\n",
      "l1_norm <= max_norm 128\n",
      "l1_norm <= max_norm 128\n",
      "l1_norm <= max_norm 128\n",
      "l1_norm <= max_norm 128\n",
      "l1_norm <= max_norm 128\n",
      "l1_norm <= max_norm 128\n",
      "l1_norm <= max_norm 128\n"
     ]
    },
    {
     "name": "stderr",
     "output_type": "stream",
     "text": [
      "  9%|█▎            | 1/11 [00:08<01:24,  8.43s/it]"
     ]
    },
    {
     "name": "stdout",
     "output_type": "stream",
     "text": [
      "l1_norm <= max_norm 128\n",
      "l1_norm <= max_norm 128\n",
      "l1_norm <= max_norm 128\n",
      "l1_norm <= max_norm 128\n",
      "l1_norm <= max_norm 128\n",
      "l1_norm <= max_norm 128\n",
      "l1_norm <= max_norm 128\n",
      "l1_norm <= max_norm 128\n",
      "l1_norm <= max_norm 128\n",
      "l1_norm <= max_norm 128\n"
     ]
    },
    {
     "name": "stderr",
     "output_type": "stream",
     "text": [
      " 18%|██▌           | 2/11 [00:17<01:17,  8.58s/it]"
     ]
    },
    {
     "name": "stdout",
     "output_type": "stream",
     "text": [
      "l1_norm <= max_norm 128\n",
      "l1_norm <= max_norm 128\n",
      "l1_norm <= max_norm 128\n",
      "l1_norm <= max_norm 128\n",
      "l1_norm <= max_norm 128\n",
      "l1_norm <= max_norm 128\n",
      "l1_norm <= max_norm 128\n",
      "l1_norm <= max_norm 128\n",
      "l1_norm <= max_norm 128\n",
      "l1_norm <= max_norm 128\n"
     ]
    },
    {
     "name": "stderr",
     "output_type": "stream",
     "text": [
      " 27%|███▊          | 3/11 [00:25<01:09,  8.67s/it]"
     ]
    },
    {
     "name": "stdout",
     "output_type": "stream",
     "text": [
      "l1_norm <= max_norm 128\n",
      "l1_norm <= max_norm 128\n",
      "l1_norm <= max_norm 128\n",
      "l1_norm <= max_norm 128\n",
      "l1_norm <= max_norm 128\n",
      "l1_norm <= max_norm 128\n",
      "l1_norm <= max_norm 128\n",
      "l1_norm <= max_norm 128\n",
      "l1_norm <= max_norm 128\n",
      "l1_norm <= max_norm 128\n"
     ]
    },
    {
     "name": "stderr",
     "output_type": "stream",
     "text": [
      " 36%|█████         | 4/11 [00:35<01:01,  8.85s/it]"
     ]
    },
    {
     "name": "stdout",
     "output_type": "stream",
     "text": [
      "l1_norm <= max_norm 128\n",
      "l1_norm <= max_norm 128\n",
      "l1_norm <= max_norm 128\n",
      "l1_norm <= max_norm 128\n",
      "l1_norm <= max_norm 128\n",
      "l1_norm <= max_norm 128\n",
      "l1_norm <= max_norm 128\n",
      "l1_norm <= max_norm 128\n",
      "l1_norm <= max_norm 128\n",
      "l1_norm <= max_norm 128\n"
     ]
    },
    {
     "name": "stderr",
     "output_type": "stream",
     "text": [
      " 45%|██████▎       | 5/11 [00:43<00:52,  8.82s/it]"
     ]
    },
    {
     "name": "stdout",
     "output_type": "stream",
     "text": [
      "l1_norm <= max_norm 128\n",
      "l1_norm <= max_norm 128\n",
      "l1_norm <= max_norm 128\n",
      "l1_norm <= max_norm 128\n",
      "l1_norm <= max_norm 128\n",
      "l1_norm <= max_norm 128\n",
      "l1_norm <= max_norm 128\n",
      "l1_norm <= max_norm 128\n",
      "l1_norm <= max_norm 128\n",
      "l1_norm <= max_norm 128\n"
     ]
    },
    {
     "name": "stderr",
     "output_type": "stream",
     "text": [
      " 55%|███████▋      | 6/11 [00:52<00:43,  8.80s/it]"
     ]
    },
    {
     "name": "stdout",
     "output_type": "stream",
     "text": [
      "l1_norm <= max_norm 128\n",
      "l1_norm <= max_norm 128\n",
      "l1_norm <= max_norm 128\n",
      "l1_norm <= max_norm 128\n",
      "l1_norm <= max_norm 128\n",
      "l1_norm <= max_norm 128\n",
      "l1_norm <= max_norm 128\n",
      "l1_norm <= max_norm 128\n",
      "l1_norm <= max_norm 128\n",
      "l1_norm <= max_norm 128\n"
     ]
    },
    {
     "name": "stderr",
     "output_type": "stream",
     "text": [
      " 64%|████████▉     | 7/11 [01:00<00:34,  8.69s/it]"
     ]
    },
    {
     "name": "stdout",
     "output_type": "stream",
     "text": [
      "l1_norm <= max_norm 128\n",
      "l1_norm <= max_norm 128\n",
      "l1_norm <= max_norm 128\n",
      "l1_norm <= max_norm 128\n",
      "l1_norm <= max_norm 128\n",
      "l1_norm <= max_norm 128\n",
      "l1_norm <= max_norm 128\n",
      "l1_norm <= max_norm 128\n",
      "l1_norm <= max_norm 128\n",
      "l1_norm <= max_norm 128\n"
     ]
    },
    {
     "name": "stderr",
     "output_type": "stream",
     "text": [
      " 73%|██████████▏   | 8/11 [01:10<00:26,  8.91s/it]"
     ]
    },
    {
     "name": "stdout",
     "output_type": "stream",
     "text": [
      "l1_norm <= max_norm 128\n",
      "l1_norm <= max_norm 128\n",
      "l1_norm <= max_norm 128\n",
      "l1_norm <= max_norm 128\n",
      "l1_norm <= max_norm 128\n",
      "l1_norm <= max_norm 128\n",
      "l1_norm <= max_norm 128\n",
      "l1_norm <= max_norm 128\n",
      "l1_norm <= max_norm 128\n",
      "l1_norm <= max_norm 128\n"
     ]
    },
    {
     "name": "stderr",
     "output_type": "stream",
     "text": [
      " 82%|███████████▍  | 9/11 [01:19<00:18,  9.05s/it]"
     ]
    },
    {
     "name": "stdout",
     "output_type": "stream",
     "text": [
      "l1_norm <= max_norm 128\n",
      "l1_norm <= max_norm 128\n",
      "l1_norm <= max_norm 128\n",
      "l1_norm <= max_norm 128\n",
      "l1_norm <= max_norm 128\n",
      "l1_norm <= max_norm 128\n",
      "l1_norm <= max_norm 128\n",
      "l1_norm <= max_norm 128\n",
      "l1_norm <= max_norm 128\n",
      "l1_norm <= max_norm 128\n"
     ]
    },
    {
     "name": "stderr",
     "output_type": "stream",
     "text": [
      " 91%|███████████▊ | 10/11 [01:28<00:08,  8.96s/it]"
     ]
    },
    {
     "name": "stdout",
     "output_type": "stream",
     "text": [
      "l1_norm <= max_norm 128\n",
      "l1_norm <= max_norm 128\n",
      "l1_norm <= max_norm 128\n",
      "l1_norm <= max_norm 128\n",
      "l1_norm <= max_norm 128\n",
      "l1_norm <= max_norm 128\n",
      "l1_norm <= max_norm 128\n",
      "l1_norm <= max_norm 128\n",
      "l1_norm <= max_norm 128\n",
      "l1_norm <= max_norm 128\n"
     ]
    },
    {
     "name": "stderr",
     "output_type": "stream",
     "text": [
      "100%|█████████████| 11/11 [01:32<00:00,  8.44s/it]\n"
     ]
    }
   ],
   "source": [
    "c = 1\n",
    "steps = 10\n",
    "\n",
    "# L_inf\n",
    "attacker_linf = PGDAttacker(model, c=c, steps=steps, norm=\"Linf\")\n",
    "\n",
    "# L_1\n",
    "attacker_l1 = PGDAttacker(model, c=c, steps=steps, norm=\"L1\")\n",
    "\n",
    "for batch in tqdm(train_dataloader, ncols=50):\n",
    "    # print(batch.keys())\n",
    "    x = batch['feature']\n",
    "    y = batch['label']\n",
    "    x, y = x.to(device), y.to(device)\n",
    "    \n",
    "    # L_inf对抗样本\n",
    "    adv_linf = attacker_linf.perturb(x, y)\n",
    "    \n",
    "    # L1对抗样本\n",
    "    adv_l1 = attacker_l1.perturb(x, y)\n",
    "    \n",
    "    for b in range(adv_linf.size(0)):\n",
    "        new_path = batch['image_path'][b].replace('resized_image', f'linf_att_image_{c}_{steps}')\n",
    "        save_image(adv_linf[b], new_path)\n",
    "    \n",
    "    for b in range(adv_l1.size(0)):\n",
    "        new_path = batch['image_path'][b].replace('resized_image', f'l1_att_image_{c}_{steps}')\n",
    "        save_image(adv_l1[b], new_path)"
   ]
  },
  {
   "cell_type": "code",
   "execution_count": null,
   "metadata": {},
   "outputs": [],
   "source": [
    "import torch\n",
    "import torch.nn as nn\n",
    "from torch import optim\n",
    "\n",
    "class CWL2Attacker(Attacker):\n",
    "    def __init__(self, model, c=1e-4, k=0.0, steps=10, lr=0.01, \n",
    "                 targeted=False):\n",
    "        \"\"\"\n",
    "        Carlini-Wagner L2攻击实现\n",
    "        \n",
    "        Params:\n",
    "            model: 目标模型\n",
    "            c: 平衡扰动范数和分类损失的系数\n",
    "            k: 置信度参数\n",
    "            steps: 优化迭代次数\n",
    "            lr: 学习率\n",
    "            targeted: 是否为目标攻击\n",
    "        \"\"\"\n",
    "        self.model = model\n",
    "        self.c = c\n",
    "        self.k = k\n",
    "        self.steps = steps\n",
    "        self.lr = lr\n",
    "        self.targeted = targeted\n",
    "        \n",
    "    def perturb(self, x, labels):\n",
    "        \"\"\"\n",
    "        生成对抗样本\n",
    "        \n",
    "        Params:\n",
    "            x: 原始输入 (B, C, H, W)\n",
    "            labels: 真实标签 (B,)\n",
    "            target_labels: 目标标签 (仅目标攻击需要)\n",
    "            \n",
    "        Returns:\n",
    "            adv_x: 对抗样本 (B, C, H, W)\n",
    "        \"\"\"\n",
    "        device = x.device\n",
    "        batch_size = x.shape[0]\n",
    "        \n",
    "        # 初始化扰动变量\n",
    "        delta = torch.zeros_like(x, requires_grad=True, device=device)\n",
    "        \n",
    "        optimizer = optim.Adam([delta], lr=self.lr)\n",
    "        \n",
    "        # 目标攻击模式检查，制定targe labels\n",
    "        if self.targeted:\n",
    "            target_labels = torch.zeros_like(labels)\n",
    "        else:\n",
    "            target_labels = None\n",
    "            \n",
    "        for _ in range(self.steps):\n",
    "            optimizer.zero_grad()\n",
    "            \n",
    "            # 生成对抗样本\n",
    "            adv_x = x + delta\n",
    "            adv_x = torch.clamp(adv_x, 0, 1) # Clip [0, 1]\n",
    "            \n",
    "            # 计算模型输出\n",
    "            logits = self.model(adv_x)\n",
    "            \n",
    "            # 计算损失函数\n",
    "            loss_l2 = torch.sum(delta**2)  # L2 norm loss\n",
    "            loss_f = self._f(logits, labels, target_labels) # targeted/untargeted loss\n",
    "            total_loss = loss_l2 + self.c * loss_f\n",
    "\n",
    "            total_loss.backward()\n",
    "            optimizer.step()\n",
    "            \n",
    "            # Clipped gradient descent\n",
    "            delta.data = torch.clamp(x + delta, 0, 1) - x\n",
    "            \n",
    "        return (x + delta).detach()\n",
    "    \n",
    "    def _f(self, logits, labels, target_labels):\n",
    "        \"\"\"\n",
    "        计算分类损失项f(x')\n",
    "        \"\"\"\n",
    "        if self.targeted:\n",
    "            # 目标攻击\n",
    "            return self._targeted_loss(logits, target_labels)\n",
    "        else:\n",
    "            # 非目标攻击\n",
    "            return self._untargeted_loss(logits, labels)\n",
    "    \n",
    "    def _targeted_loss(self, logits, target_labels):\n",
    "        \"\"\"\n",
    "        目标攻击损失计算：\n",
    "        f(x') = max(max{Z_i : i ≠ t} - Z_t, -k)\n",
    "        \"\"\"\n",
    "        batch_range = torch.arange(logits.size(0))\n",
    "        z_target = logits[batch_range, target_labels]\n",
    "        \n",
    "        # 除目标类外的最大logit\n",
    "        other_logits = logits.clone()\n",
    "        other_logits[batch_range, target_labels] = -float('inf')\n",
    "        max_other = torch.max(other_logits, dim=1)[0]\n",
    "        \n",
    "        # loss = torch.clamp(max_other - z_target + self.k, min=0.0)\n",
    "        loss = torch.max(max_other - z_target, torch.tensor(-self.k))\n",
    "        return loss.sum()\n",
    "    \n",
    "    def _untargeted_loss(self, logits, true_labels):\n",
    "        \"\"\"\n",
    "        非目标攻击损失计算：\n",
    "        f(x') = max(Z_t - max{Z_i : i ≠ t}, -k)\n",
    "        \"\"\"\n",
    "        batch_range = torch.arange(logits.size(0))\n",
    "        z_true = logits[batch_range, true_labels]\n",
    "        \n",
    "        # 真实类外的最大logit\n",
    "        other_logits = logits.clone()\n",
    "        other_logits[batch_range, true_labels] = -float('inf')\n",
    "        max_other = torch.max(other_logits, dim=1)[0]\n",
    "        \n",
    "        # loss = torch.clamp(z_true - max_other + self.k, min=0.0)\n",
    "        loss = torch.max(z_true - max_other, torch.tensor(-self.k))\n",
    "        return loss.sum()"
   ]
  },
  {
   "cell_type": "code",
   "execution_count": null,
   "metadata": {},
   "outputs": [
    {
     "name": "stderr",
     "output_type": "stream",
     "text": [
      "100%|█████████████| 79/79 [00:18<00:00,  4.30it/s]"
     ]
    },
    {
     "name": "stdout",
     "output_type": "stream",
     "text": [
      "Clean Acc: 96.17 | Untargeted ASR: 90.77 | Targeted ASR: 0.00\n"
     ]
    },
    {
     "name": "stderr",
     "output_type": "stream",
     "text": [
      "\n"
     ]
    }
   ],
   "source": [
    "# 非目标攻击\n",
    "attacker_untargeted = CWL2Attacker(model, c=10, k=0.0, targeted=False)\n",
    "\n",
    "# 目标攻击\n",
    "attacker_targeted = CWL2Attacker(model, c=10, k=0.0, targeted=True)\n",
    "\n",
    "clean_acc, untargeted_asr, targeted_asr = 0,0,0\n",
    "for batch in tqdm(test_loader, ncols=50):\n",
    "    x = batch['feature']\n",
    "    y = batch['label']\n",
    "    x, y = x.to(device), y.to(device)\n",
    "    \n",
    "    # 非目标攻击\n",
    "    adv_untargeted = attacker_untargeted.perturb(x, y)\n",
    "    \n",
    "    # 目标攻击（内部实现为：令所有样本的目标类别分类为0）\n",
    "    target_labels = torch.zeros_like(y)\n",
    "    adv_targeted = attacker_targeted.perturb(x, y)\n",
    "    \n",
    "    # 评估攻击效果\n",
    "    with torch.no_grad():\n",
    "        # 原始准确率\n",
    "        clean_acc += (model(x).argmax(1) == y).float().sum()\n",
    "        \n",
    "        # 非目标攻击ASR\n",
    "        untargeted_asr += (model(adv_untargeted).argmax(1) != y).float().sum()\n",
    "        \n",
    "        # 目标攻击ASR\n",
    "        targeted_asr += (model(adv_targeted).argmax(1) == target_labels).float().sum()\n",
    "    \n",
    "clean_acc = clean_acc / len(test_data) *100\n",
    "untargeted_asr = untargeted_asr / len(test_data) *100\n",
    "targeted_asr = targeted_asr / len(test_data) *100\n",
    "print(f\"Clean Acc: {clean_acc:.2f} | Untargeted ASR: {untargeted_asr:.2f} | Targeted ASR: {targeted_asr:.2f}\")"
   ]
  },
  {
   "cell_type": "code",
   "execution_count": 100,
   "metadata": {},
   "outputs": [],
   "source": [
    "# 为了完成ablation，集成一个函数接口\n",
    "def evaluate_attacker(attacker_class, attacker_args, model, test_loader, test_num=len(test_data)):\n",
    "    attacker = attacker_class(model, **attacker_args)\n",
    "    asr = 0\n",
    "\n",
    "    for batch in tqdm(test_loader, ncols=50, leave=False):\n",
    "        x = batch['feature']\n",
    "        y = batch['label']\n",
    "        x, y = x.to(device), y.to(device)\n",
    "        \n",
    "        adv_x = attacker.perturb(x, y)\n",
    "        \n",
    "        with torch.no_grad():\n",
    "            asr += (model(adv_x).argmax(1) != y).float().sum()\n",
    "    \n",
    "    asr = asr / test_num *100\n",
    "    return asr.item()"
   ]
  },
  {
   "cell_type": "code",
   "execution_count": 125,
   "metadata": {},
   "outputs": [
    {
     "name": "stderr",
     "output_type": "stream",
     "text": [
      "                                                  \r"
     ]
    },
    {
     "name": "stdout",
     "output_type": "stream",
     "text": [
      "L1 0.0001 1.3701369762420654\n"
     ]
    },
    {
     "name": "stderr",
     "output_type": "stream",
     "text": [
      "                                                  \r"
     ]
    },
    {
     "name": "stdout",
     "output_type": "stream",
     "text": [
      "Linf 0.0001 1.3901389837265015\n"
     ]
    },
    {
     "name": "stderr",
     "output_type": "stream",
     "text": [
      "                                                  \r"
     ]
    },
    {
     "name": "stdout",
     "output_type": "stream",
     "text": [
      "L1 0.01 1.3701369762420654\n"
     ]
    },
    {
     "name": "stderr",
     "output_type": "stream",
     "text": [
      "                                                  \r"
     ]
    },
    {
     "name": "stdout",
     "output_type": "stream",
     "text": [
      "Linf 0.01 2.900290012359619\n"
     ]
    },
    {
     "name": "stderr",
     "output_type": "stream",
     "text": [
      "                                                  \r"
     ]
    },
    {
     "name": "stdout",
     "output_type": "stream",
     "text": [
      "L1 0.1 1.3801380395889282\n"
     ]
    },
    {
     "name": "stderr",
     "output_type": "stream",
     "text": [
      "                                                  \r"
     ]
    },
    {
     "name": "stdout",
     "output_type": "stream",
     "text": [
      "Linf 0.1 54.565460205078125\n"
     ]
    },
    {
     "name": "stderr",
     "output_type": "stream",
     "text": [
      "                                                  \r"
     ]
    },
    {
     "name": "stdout",
     "output_type": "stream",
     "text": [
      "L1 0.5 1.4101409912109375\n"
     ]
    },
    {
     "name": "stderr",
     "output_type": "stream",
     "text": [
      "                                                  \r"
     ]
    },
    {
     "name": "stdout",
     "output_type": "stream",
     "text": [
      "Linf 0.5 80.0780029296875\n"
     ]
    },
    {
     "name": "stderr",
     "output_type": "stream",
     "text": [
      "                                                  \r"
     ]
    },
    {
     "name": "stdout",
     "output_type": "stream",
     "text": [
      "L1 1 1.4401440620422363\n"
     ]
    },
    {
     "name": "stderr",
     "output_type": "stream",
     "text": [
      "                                                  \r"
     ]
    },
    {
     "name": "stdout",
     "output_type": "stream",
     "text": [
      "Linf 1 89.22891998291016\n"
     ]
    },
    {
     "name": "stderr",
     "output_type": "stream",
     "text": [
      "                                                  \r"
     ]
    },
    {
     "name": "stdout",
     "output_type": "stream",
     "text": [
      "L1 5 1.5601561069488525\n"
     ]
    },
    {
     "name": "stderr",
     "output_type": "stream",
     "text": [
      "                                                  \r"
     ]
    },
    {
     "name": "stdout",
     "output_type": "stream",
     "text": [
      "Linf 5 94.57946014404297\n"
     ]
    },
    {
     "name": "stderr",
     "output_type": "stream",
     "text": [
      "                                                  \r"
     ]
    },
    {
     "name": "stdout",
     "output_type": "stream",
     "text": [
      "L1 10 1.670167088508606\n"
     ]
    },
    {
     "name": "stderr",
     "output_type": "stream",
     "text": [
      "                                                  \r"
     ]
    },
    {
     "name": "stdout",
     "output_type": "stream",
     "text": [
      "Linf 10 95.14952087402344\n"
     ]
    },
    {
     "name": "stderr",
     "output_type": "stream",
     "text": [
      "                                                  \r"
     ]
    },
    {
     "name": "stdout",
     "output_type": "stream",
     "text": [
      "L1 100 2.4302430152893066\n"
     ]
    },
    {
     "name": "stderr",
     "output_type": "stream",
     "text": [
      "                                                  \r"
     ]
    },
    {
     "name": "stdout",
     "output_type": "stream",
     "text": [
      "Linf 100 95.04950714111328\n"
     ]
    },
    {
     "name": "stderr",
     "output_type": "stream",
     "text": [
      "                                                  \r"
     ]
    },
    {
     "name": "stdout",
     "output_type": "stream",
     "text": [
      "L1 10000.0 5.000500202178955\n"
     ]
    },
    {
     "name": "stderr",
     "output_type": "stream",
     "text": [
      "                                                  \r"
     ]
    },
    {
     "name": "stdout",
     "output_type": "stream",
     "text": [
      "Linf 10000.0 87.1587142944336\n"
     ]
    },
    {
     "name": "stderr",
     "output_type": "stream",
     "text": [
      "                                                  \r"
     ]
    },
    {
     "name": "stdout",
     "output_type": "stream",
     "text": [
      "L1 1000000.0 10.521052360534668\n"
     ]
    },
    {
     "name": "stderr",
     "output_type": "stream",
     "text": [
      "                                                  "
     ]
    },
    {
     "name": "stdout",
     "output_type": "stream",
     "text": [
      "Linf 1000000.0 86.73867797851562\n"
     ]
    },
    {
     "name": "stderr",
     "output_type": "stream",
     "text": [
      "\r"
     ]
    }
   ],
   "source": [
    "abltation_stats = dict()\n",
    "abltation_stats.update(\n",
    "    {\n",
    "        'L1': [],\n",
    "        'Linf': []\n",
    "    }\n",
    ")\n",
    "\n",
    "# PGD attacker\n",
    "for c in [1e-4, 1e-2, 0.1, 0.5, 1, 5, 10, 100, 1e4, 1e6]:\n",
    "    for norm in ['L1', 'Linf']:\n",
    "        asr = evaluate_attacker(PGDAttacker, {'c': c, 'norm': norm, 'steps': 20}, model, test_loader)\n",
    "        print(norm, c, asr)\n",
    "        abltation_stats[norm].append((c, asr))"
   ]
  },
  {
   "cell_type": "code",
   "execution_count": 131,
   "metadata": {},
   "outputs": [
    {
     "name": "stderr",
     "output_type": "stream",
     "text": [
      "                                                  \r"
     ]
    },
    {
     "name": "stdout",
     "output_type": "stream",
     "text": [
      "False 1e-06 79.98799896240234\n"
     ]
    },
    {
     "name": "stderr",
     "output_type": "stream",
     "text": [
      "                                                  \r"
     ]
    },
    {
     "name": "stdout",
     "output_type": "stream",
     "text": [
      "True 1e-06 79.98799896240234\n"
     ]
    },
    {
     "name": "stderr",
     "output_type": "stream",
     "text": [
      "                                                  \r"
     ]
    },
    {
     "name": "stdout",
     "output_type": "stream",
     "text": [
      "False 1e-05 79.98799896240234\n"
     ]
    },
    {
     "name": "stderr",
     "output_type": "stream",
     "text": [
      "                                                  \r"
     ]
    },
    {
     "name": "stdout",
     "output_type": "stream",
     "text": [
      "True 1e-05 79.98799896240234\n"
     ]
    },
    {
     "name": "stderr",
     "output_type": "stream",
     "text": [
      "                                                  \r"
     ]
    },
    {
     "name": "stdout",
     "output_type": "stream",
     "text": [
      "False 0.001 80.01800537109375\n"
     ]
    },
    {
     "name": "stderr",
     "output_type": "stream",
     "text": [
      "                                                  \r"
     ]
    },
    {
     "name": "stdout",
     "output_type": "stream",
     "text": [
      "True 0.001 79.96800231933594\n"
     ]
    },
    {
     "name": "stderr",
     "output_type": "stream",
     "text": [
      "                                                  \r"
     ]
    },
    {
     "name": "stdout",
     "output_type": "stream",
     "text": [
      "False 0.01 80.27803039550781\n"
     ]
    },
    {
     "name": "stderr",
     "output_type": "stream",
     "text": [
      "                                                  \r"
     ]
    },
    {
     "name": "stdout",
     "output_type": "stream",
     "text": [
      "True 0.01 79.95800018310547\n"
     ]
    },
    {
     "name": "stderr",
     "output_type": "stream",
     "text": [
      "                                                  \r"
     ]
    },
    {
     "name": "stdout",
     "output_type": "stream",
     "text": [
      "False 0.1 81.78817749023438\n"
     ]
    },
    {
     "name": "stderr",
     "output_type": "stream",
     "text": [
      "                                                  \r"
     ]
    },
    {
     "name": "stdout",
     "output_type": "stream",
     "text": [
      "True 0.1 79.6379623413086\n"
     ]
    },
    {
     "name": "stderr",
     "output_type": "stream",
     "text": [
      "                                                  \r"
     ]
    },
    {
     "name": "stdout",
     "output_type": "stream",
     "text": [
      "False 1 87.21871948242188\n"
     ]
    },
    {
     "name": "stderr",
     "output_type": "stream",
     "text": [
      "                                                  \r"
     ]
    },
    {
     "name": "stdout",
     "output_type": "stream",
     "text": [
      "True 1 76.4876480102539\n"
     ]
    },
    {
     "name": "stderr",
     "output_type": "stream",
     "text": [
      "                                                  \r"
     ]
    },
    {
     "name": "stdout",
     "output_type": "stream",
     "text": [
      "False 5 88.80888366699219\n"
     ]
    },
    {
     "name": "stderr",
     "output_type": "stream",
     "text": [
      "                                                  \r"
     ]
    },
    {
     "name": "stdout",
     "output_type": "stream",
     "text": [
      "True 5 74.09740447998047\n"
     ]
    },
    {
     "name": "stderr",
     "output_type": "stream",
     "text": [
      "                                                  \r"
     ]
    },
    {
     "name": "stdout",
     "output_type": "stream",
     "text": [
      "False 10 89.06890869140625\n"
     ]
    },
    {
     "name": "stderr",
     "output_type": "stream",
     "text": [
      "                                                  \r"
     ]
    },
    {
     "name": "stdout",
     "output_type": "stream",
     "text": [
      "True 10 73.51734924316406\n"
     ]
    },
    {
     "name": "stderr",
     "output_type": "stream",
     "text": [
      "                                                  \r"
     ]
    },
    {
     "name": "stdout",
     "output_type": "stream",
     "text": [
      "False 50 89.4189453125\n"
     ]
    },
    {
     "name": "stderr",
     "output_type": "stream",
     "text": [
      "                                                  \r"
     ]
    },
    {
     "name": "stdout",
     "output_type": "stream",
     "text": [
      "True 50 73.26732635498047\n"
     ]
    },
    {
     "name": "stderr",
     "output_type": "stream",
     "text": [
      "                                                  \r"
     ]
    },
    {
     "name": "stdout",
     "output_type": "stream",
     "text": [
      "False 100 89.49894714355469\n"
     ]
    },
    {
     "name": "stderr",
     "output_type": "stream",
     "text": [
      "                                                  \r"
     ]
    },
    {
     "name": "stdout",
     "output_type": "stream",
     "text": [
      "True 100 72.89729309082031\n"
     ]
    },
    {
     "name": "stderr",
     "output_type": "stream",
     "text": [
      "                                                  \r"
     ]
    },
    {
     "name": "stdout",
     "output_type": "stream",
     "text": [
      "False 10000.0 91.59915924072266\n"
     ]
    },
    {
     "name": "stderr",
     "output_type": "stream",
     "text": [
      "                                                  \r"
     ]
    },
    {
     "name": "stdout",
     "output_type": "stream",
     "text": [
      "True 10000.0 72.42724609375\n"
     ]
    },
    {
     "name": "stderr",
     "output_type": "stream",
     "text": [
      "                                                  \r"
     ]
    },
    {
     "name": "stdout",
     "output_type": "stream",
     "text": [
      "False 1000000.0 91.65916442871094\n"
     ]
    },
    {
     "name": "stderr",
     "output_type": "stream",
     "text": [
      "                                                  \r"
     ]
    },
    {
     "name": "stdout",
     "output_type": "stream",
     "text": [
      "True 1000000.0 72.88729095458984\n"
     ]
    },
    {
     "name": "stderr",
     "output_type": "stream",
     "text": [
      "                                                  \r"
     ]
    },
    {
     "name": "stdout",
     "output_type": "stream",
     "text": [
      "False 0.0 87.21871948242188\n"
     ]
    },
    {
     "name": "stderr",
     "output_type": "stream",
     "text": [
      "                                                  \r"
     ]
    },
    {
     "name": "stdout",
     "output_type": "stream",
     "text": [
      "True 0.0 76.4876480102539\n"
     ]
    },
    {
     "name": "stderr",
     "output_type": "stream",
     "text": [
      "                                                  \r"
     ]
    },
    {
     "name": "stdout",
     "output_type": "stream",
     "text": [
      "False 0.1 87.69876861572266\n"
     ]
    },
    {
     "name": "stderr",
     "output_type": "stream",
     "text": [
      "                                                  \r"
     ]
    },
    {
     "name": "stdout",
     "output_type": "stream",
     "text": [
      "True 0.1 76.42764282226562\n"
     ]
    },
    {
     "name": "stderr",
     "output_type": "stream",
     "text": [
      "                                                  \r"
     ]
    },
    {
     "name": "stdout",
     "output_type": "stream",
     "text": [
      "False 1.0 87.7187728881836\n"
     ]
    },
    {
     "name": "stderr",
     "output_type": "stream",
     "text": [
      "                                                  "
     ]
    },
    {
     "name": "stdout",
     "output_type": "stream",
     "text": [
      "True 1.0 76.41764068603516\n"
     ]
    },
    {
     "name": "stderr",
     "output_type": "stream",
     "text": [
      "\r"
     ]
    }
   ],
   "source": [
    "abltation_stats.update(\n",
    "    {'targeted c': [],\n",
    "    'untargeted c': [],\n",
    "    'targeted k': [],\n",
    "    'untargeted k': []}\n",
    ")\n",
    "\n",
    "# CWL2Attacker, Fix k=0\n",
    "for c in [1e-6, 1e-5, 1e-3, 1e-2, 0.1, 1, 5, 10, 50, 100, 1e4, 1e6]:\n",
    "    for targeted in [False, True]:\n",
    "        asr = evaluate_attacker(CWL2Attacker, {'c': c, 'targeted': targeted, 'k': 0.0, 'steps': 20}, model, test_loader)\n",
    "        print(targeted, c, asr)\n",
    "        abltation_stats['targeted c' if targeted else 'untargeted c'].append((c, asr))\n",
    "\n",
    "# CWL2Attacker, Fix c=1\n",
    "for k in [0.0, 0.1, 1.0]:\n",
    "    for targeted in [False, True]:\n",
    "        asr = evaluate_attacker(CWL2Attacker, {'c': 1.0, 'targeted': targeted, 'k': k, 'steps': 20}, model, test_loader)\n",
    "        print(targeted, k, asr)\n",
    "        abltation_stats['targeted k' if targeted else 'untargeted k'].append((k, asr))\n",
    "\n"
   ]
  },
  {
   "cell_type": "code",
   "execution_count": 133,
   "metadata": {},
   "outputs": [
    {
     "data": {
      "image/png": "[encoded data removed]",
      "text/plain": [
       "<Figure size 800x1000 with 6 Axes>"
      ]
     },
     "metadata": {},
     "output_type": "display_data"
    }
   ],
   "source": [
    "import matplotlib.pyplot as plt\n",
    "\n",
    "fig, axes = plt.subplots(3, 2, figsize=(8, 10))\n",
    "axes = axes.flatten()\n",
    "\n",
    "for ax, (exp_name, data_points) in zip(axes, abltation_stats.items()):\n",
    "    if exp_name == 'L1':\n",
    "        exp_name = 'PGD (L1)'\n",
    "    elif exp_name == 'Linf':\n",
    "        exp_name = 'PGD (L∞)'\n",
    "    elif exp_name == 'targeted c':\n",
    "        exp_name = 'C&W (targeted) c'\n",
    "    elif exp_name == 'untargeted c':\n",
    "        exp_name = 'C&W (untargeted) c'\n",
    "    elif exp_name == 'targeted k':\n",
    "        exp_name = 'C&W (targeted) k'\n",
    "    elif exp_name == 'untargeted k':\n",
    "        exp_name = 'C&W (untargeted) k'\n",
    "    \n",
    "    # PGD\n",
    "    if 'PGD' in exp_name:\n",
    "        params, scores = zip(*data_points)\n",
    "        ax.plot(params, scores, marker='o', color='royalblue')\n",
    "        ax.set_xscale('log')\n",
    "        ax.set_title(exp_name, fontsize=12)\n",
    "        ax.set_xlabel('hyper-parameter c', fontsize=10)\n",
    "        ax.set_ylabel('ASR', fontsize=10)\n",
    "        ax.grid(True, linestyle=':')\n",
    "    \n",
    "    elif 'targeted) c' in exp_name:\n",
    "        # c\n",
    "        params, scores = zip(*data_points)\n",
    "        ax.plot(params, scores, marker='o', color='royalblue')\n",
    "        ax.set_xscale('log')\n",
    "        ax.set_title(exp_name, fontsize=12)\n",
    "        ax.set_xlabel('hyper-parameter c', fontsize=10)\n",
    "        ax.set_ylabel('ASR', fontsize=10)\n",
    "        ax.grid(True, linestyle=':')\n",
    "    \n",
    "    else:\n",
    "        # k\n",
    "        params, scores = zip(*data_points)\n",
    "        ax.plot(params, scores, marker='o', color='royalblue')\n",
    "        # ax.set_xscale('log')\n",
    "        ax.set_title(exp_name, fontsize=12)\n",
    "        ax.set_xlabel('hyper-parameter k', fontsize=10)\n",
    "        ax.set_ylabel('ASR', fontsize=10)\n",
    "        ax.grid(True, linestyle=':')\n",
    "\n",
    "# 调整子图间距\n",
    "plt.tight_layout(pad=2.0)\n",
    "plt.show()"
   ]
  },
  {
   "cell_type": "markdown",
   "metadata": {},
   "source": [
    "# Q3"
   ]
  },
  {
   "cell_type": "code",
   "execution_count": 113,
   "metadata": {},
   "outputs": [],
   "source": [
    "class Defender():\n",
    "    def __init__(self, attacker, model):\n",
    "        ...\n",
    "\n",
    "class AugmentDefender(Defender):\n",
    "    def __init__(self, finetune, attacker, model, augment_ratio=0.1):\n",
    "        self.finetune = finetune\n",
    "        self.attacker = attacker\n",
    "        self.augment_ratio = augment_ratio #训练集加入多少比例adv训练样本\n",
    "        self.model = model\n",
    "\n",
    "        self.loss_fn = nn.CrossEntropyLoss(reduction='mean')\n",
    "        self.optimizer = optim.AdamW(self.model.parameters(), lr=0.0001)\n",
    "\n",
    "    def defend(self, x, y):\n",
    "        self.model.eval()\n",
    "        adv_x = self.attacker.perturb(x, y)\n",
    "\n",
    "        batch_size = x.size(0)\n",
    "        num_adv = int(batch_size * self.augment_ratio)\n",
    "        \n",
    "        if num_adv > 0:\n",
    "            mixed_x = torch.cat([x[:-num_adv], adv_x[-num_adv:]])\n",
    "            mixed_y = y.clone()\n",
    "        else:\n",
    "            mixed_x, mixed_y = x, y\n",
    "            \n",
    "        return mixed_x, mixed_y\n",
    "\n",
    "\n",
    "class AdversarialTrainingDefender(AugmentDefender):\n",
    "    def __init__(\n",
    "        self,\n",
    "        attacker,\n",
    "        model,\n",
    "        augment_ratio: float = 0.1,\n",
    "        lr: float = 1e-4\n",
    "    ):\n",
    "        \"\"\"\n",
    "        Adversarial training defender.\n",
    "        \n",
    "        Args:\n",
    "            augment_ratio: Ratio of adversarial examples in each batch\n",
    "        \"\"\"\n",
    "        self.attacker = attacker\n",
    "        self.model = model\n",
    "        self.augment_ratio = augment_ratio\n",
    "        self.optimizer = optim.Adam(self.model.parameters(), lr=lr)\n",
    "        self.criterion = nn.CrossEntropyLoss(reduction='mean')\n",
    "        \n",
    "    def train_epoch(self, dataloader):\n",
    "        \"\"\"\n",
    "        Train for one epoch with adversarial training.\n",
    "        \"\"\"\n",
    "        self.model.train()\n",
    "        total_loss = 0\n",
    "        \n",
    "        for batch in tqdm(dataloader, desc=\"Adversarial Training\"):\n",
    "            x = batch['feature']\n",
    "            y = batch['label']    \n",
    "            x, y = x.to(device), y.to(device)            \n",
    "            defended_x, defended_y = self.defend(x, y)\n",
    "            \n",
    "            self.optimizer.zero_grad()\n",
    "            outputs = self.model(defended_x)\n",
    "            loss = self.criterion(outputs, defended_y)\n",
    "            loss.backward()\n",
    "            self.optimizer.step()\n",
    "            \n",
    "            total_loss += loss.item()\n",
    "            \n",
    "        return total_loss / len(dataloader)\n",
    "    \n",
    "    def evaluate_robustness(self, dataloader):\n",
    "        \"\"\"\n",
    "        Evaluate model robustness against attacks.\n",
    "        \n",
    "        Args:\n",
    "            dataloader: Evaluation data loader\n",
    "            attacker: Optional attacker to use (defaults to self.attacker)\n",
    "            \n",
    "        Returns:\n",
    "            Tuple of (clean accuracy, robust accuracy)\n",
    "        \"\"\"\n",
    "        self.model.eval()\n",
    "        clean_correct = 0\n",
    "        robust_correct = 0\n",
    "        total = 0\n",
    "        \n",
    "        for batch in tqdm(dataloader, ncols=50, desc='Evaluating'):\n",
    "            x = batch['feature']\n",
    "            y = batch['label']    \n",
    "            x, y = x.to(device), y.to(device)\n",
    "            \n",
    "            # Clean accuracy\n",
    "            with torch.no_grad():\n",
    "                outputs = self.model(x)\n",
    "                _, predicted = torch.max(outputs.data, 1)\n",
    "                clean_correct += (predicted == y).sum().item()\n",
    "            \n",
    "            # Robust accuracy (against attacks)\n",
    "            adv_x = self.attacker.perturb(x, y)\n",
    "            with torch.no_grad():\n",
    "                outputs = self.model(adv_x)\n",
    "                _, predicted = torch.max(outputs.data, 1)\n",
    "                robust_correct += (predicted == y).sum().item()\n",
    "            \n",
    "            total += y.size(0)\n",
    "            \n",
    "        return clean_correct / total, robust_correct / total\n"
   ]
  },
  {
   "cell_type": "code",
   "execution_count": 115,
   "metadata": {},
   "outputs": [],
   "source": [
    "def evaluate_defense(\n",
    "    defender,\n",
    "    test_loader,\n",
    "    num_epochs: int = 10,\n",
    "    eval_every: int = 1\n",
    ") -> dict:\n",
    "    \"\"\"\n",
    "    Evaluate defense performance over multiple epochs.\n",
    "    \n",
    "    Args:\n",
    "        defender: Defender instance to evaluate\n",
    "        test_loader: Test data loader\n",
    "        num_epochs: Number of training epochs\n",
    "        eval_every: Evaluate every N epochs\n",
    "        \n",
    "    Returns:\n",
    "        Dictionary containing training metrics\n",
    "    \"\"\"\n",
    "    results = {\n",
    "        'train_loss': [],\n",
    "        'clean_acc': [],\n",
    "        'robust_acc': []\n",
    "    }\n",
    "    \n",
    "    for epoch in range(1, num_epochs + 1):\n",
    "        # Train for one epoch\n",
    "        if isinstance(defender, (AugmentDefender, AdversarialTrainingDefender)):\n",
    "            train_loss = defender.train_epoch(train_loader)\n",
    "            results['train_loss'].append(train_loss)\n",
    "        else:\n",
    "            # For other defense types that don't need training\n",
    "            pass\n",
    "        \n",
    "        # Evaluate periodically\n",
    "        if epoch % eval_every == 0 or epoch == num_epochs:\n",
    "            if isinstance(defender, AdversarialTrainingDefender):\n",
    "                clean_acc, robust_acc = defender.evaluate_robustness(test_loader)\n",
    "                results['clean_acc'].append(clean_acc)\n",
    "                results['robust_acc'].append(robust_acc)\n",
    "            else:\n",
    "                clean_acc = defender.evaluate(test_loader)\n",
    "                results['clean_acc'].append(clean_acc)\n",
    "                \n",
    "            print(f\"Epoch {epoch}: Clean Acc = {clean_acc:.4f}\", end=\"\")\n",
    "            if 'robust_acc' in results:\n",
    "                print(f\", Robust Acc = {robust_acc:.4f}\")\n",
    "            else:\n",
    "                print()\n",
    "                \n",
    "    return results\n"
   ]
  },
  {
   "cell_type": "code",
   "execution_count": 124,
   "metadata": {},
   "outputs": [
    {
     "name": "stderr",
     "output_type": "stream",
     "text": [
      "Adversarial Training: 100%|██████████| 469/469 [00:28<00:00, 16.18it/s]\n",
      "Evaluating: 100%|█| 79/79 [00:05<00:00, 14.95it/s]\n"
     ]
    },
    {
     "name": "stdout",
     "output_type": "stream",
     "text": [
      "Epoch 1: Clean Acc = 0.9839, Robust Acc = 0.9838\n"
     ]
    },
    {
     "name": "stderr",
     "output_type": "stream",
     "text": [
      "Adversarial Training: 100%|██████████| 469/469 [00:29<00:00, 16.04it/s]\n",
      "Evaluating: 100%|█| 79/79 [00:05<00:00, 15.13it/s]\n"
     ]
    },
    {
     "name": "stdout",
     "output_type": "stream",
     "text": [
      "Epoch 2: Clean Acc = 0.9831, Robust Acc = 0.9828\n"
     ]
    },
    {
     "name": "stderr",
     "output_type": "stream",
     "text": [
      "Adversarial Training: 100%|██████████| 469/469 [00:29<00:00, 15.94it/s]\n",
      "Evaluating: 100%|█| 79/79 [00:05<00:00, 14.95it/s]\n"
     ]
    },
    {
     "name": "stdout",
     "output_type": "stream",
     "text": [
      "Epoch 3: Clean Acc = 0.9864, Robust Acc = 0.9863\n"
     ]
    },
    {
     "name": "stderr",
     "output_type": "stream",
     "text": [
      "Adversarial Training: 100%|██████████| 469/469 [00:30<00:00, 15.43it/s]\n",
      "Evaluating: 100%|█| 79/79 [00:04<00:00, 16.39it/s]\n"
     ]
    },
    {
     "name": "stdout",
     "output_type": "stream",
     "text": [
      "Epoch 4: Clean Acc = 0.9857, Robust Acc = 0.9852\n"
     ]
    },
    {
     "name": "stderr",
     "output_type": "stream",
     "text": [
      "Adversarial Training: 100%|██████████| 469/469 [00:29<00:00, 15.79it/s]\n",
      "Evaluating: 100%|█| 79/79 [00:05<00:00, 14.97it/s]\n"
     ]
    },
    {
     "name": "stdout",
     "output_type": "stream",
     "text": [
      "Epoch 5: Clean Acc = 0.9863, Robust Acc = 0.9859\n"
     ]
    },
    {
     "data": {
      "image/png": "[encoded data removed]",
      "text/plain": [
       "<Figure size 1000x400 with 2 Axes>"
      ]
     },
     "metadata": {},
     "output_type": "display_data"
    }
   ],
   "source": [
    "# 针对 PGD L1\n",
    "defender = AdversarialTrainingDefender(attacker_l1, model, augment_ratio=0.3, lr=1e-3)\n",
    "results = evaluate_defense(defender, test_loader, num_epochs=5)\n",
    "\n",
    "plt.figure(figsize=(10, 4))\n",
    "plt.subplot(1, 2, 1)\n",
    "plt.plot(results['train_loss'], label='Training Loss')\n",
    "plt.xlabel('Epoch')\n",
    "plt.ylabel('Loss')\n",
    "plt.title('Training Loss')\n",
    "\n",
    "plt.subplot(1, 2, 2)\n",
    "plt.plot(results['clean_acc'], label='Clean Accuracy')\n",
    "if 'robust_acc' in results:\n",
    "    plt.plot(results['robust_acc'], label='Robust Accuracy')\n",
    "plt.xlabel('Epoch')\n",
    "plt.ylabel('Accuracy')\n",
    "plt.legend()\n",
    "plt.title('Accuracy')\n",
    "plt.tight_layout()\n",
    "plt.show()"
   ]
  },
  {
   "cell_type": "code",
   "execution_count": 121,
   "metadata": {},
   "outputs": [
    {
     "name": "stderr",
     "output_type": "stream",
     "text": [
      "Adversarial Training: 100%|██████████| 469/469 [00:23<00:00, 20.07it/s]\n",
      "Evaluating: 100%|█| 79/79 [00:03<00:00, 21.77it/s]\n"
     ]
    },
    {
     "name": "stdout",
     "output_type": "stream",
     "text": [
      "Epoch 1: Clean Acc = 0.9788, Robust Acc = 0.1941\n"
     ]
    },
    {
     "name": "stderr",
     "output_type": "stream",
     "text": [
      "Adversarial Training: 100%|██████████| 469/469 [00:22<00:00, 20.87it/s]\n",
      "Evaluating: 100%|█| 79/79 [00:03<00:00, 21.97it/s]\n"
     ]
    },
    {
     "name": "stdout",
     "output_type": "stream",
     "text": [
      "Epoch 2: Clean Acc = 0.9770, Robust Acc = 0.4700\n"
     ]
    },
    {
     "name": "stderr",
     "output_type": "stream",
     "text": [
      "Adversarial Training: 100%|██████████| 469/469 [00:22<00:00, 21.00it/s]\n",
      "Evaluating: 100%|█| 79/79 [00:03<00:00, 21.76it/s]\n"
     ]
    },
    {
     "name": "stdout",
     "output_type": "stream",
     "text": [
      "Epoch 3: Clean Acc = 0.9717, Robust Acc = 0.7295\n"
     ]
    },
    {
     "name": "stderr",
     "output_type": "stream",
     "text": [
      "Adversarial Training: 100%|██████████| 469/469 [00:22<00:00, 20.94it/s]\n",
      "Evaluating: 100%|█| 79/79 [00:03<00:00, 21.44it/s]\n"
     ]
    },
    {
     "name": "stdout",
     "output_type": "stream",
     "text": [
      "Epoch 4: Clean Acc = 0.9812, Robust Acc = 0.8313\n"
     ]
    },
    {
     "name": "stderr",
     "output_type": "stream",
     "text": [
      "Adversarial Training: 100%|██████████| 469/469 [00:22<00:00, 20.93it/s]\n",
      "Evaluating: 100%|█| 79/79 [00:03<00:00, 21.10it/s]\n"
     ]
    },
    {
     "name": "stdout",
     "output_type": "stream",
     "text": [
      "Epoch 5: Clean Acc = 0.9832, Robust Acc = 0.8853\n"
     ]
    },
    {
     "data": {
      "image/png": "[encoded data removed]",
      "text/plain": [
       "<Figure size 1000x400 with 2 Axes>"
      ]
     },
     "metadata": {},
     "output_type": "display_data"
    }
   ],
   "source": [
    "# 针对 PGD Linf\n",
    "defender = AdversarialTrainingDefender(attacker_linf, model, augment_ratio=0.3, lr=5e-3)\n",
    "results = evaluate_defense(defender, test_loader, num_epochs=5)\n",
    "\n",
    "plt.figure(figsize=(10, 4))\n",
    "plt.subplot(1, 2, 1)\n",
    "plt.plot(results['train_loss'], label='Training Loss')\n",
    "plt.xlabel('Epoch')\n",
    "plt.ylabel('Loss')\n",
    "plt.title('Training Loss')\n",
    "\n",
    "plt.subplot(1, 2, 2)\n",
    "plt.plot(results['clean_acc'], label='Clean Accuracy')\n",
    "if 'robust_acc' in results:\n",
    "    plt.plot(results['robust_acc'], label='Robust Accuracy')\n",
    "plt.xlabel('Epoch')\n",
    "plt.ylabel('Accuracy')\n",
    "plt.legend()\n",
    "plt.title('Accuracy')\n",
    "plt.tight_layout()\n",
    "plt.show()"
   ]
  },
  {
   "cell_type": "code",
   "execution_count": 122,
   "metadata": {},
   "outputs": [
    {
     "name": "stderr",
     "output_type": "stream",
     "text": [
      "Adversarial Training: 100%|██████████| 469/469 [00:59<00:00,  7.93it/s]\n",
      "Evaluating: 100%|█| 79/79 [00:12<00:00,  6.51it/s]\n"
     ]
    },
    {
     "name": "stdout",
     "output_type": "stream",
     "text": [
      "Epoch 1: Clean Acc = 0.9774, Robust Acc = 0.8793\n"
     ]
    },
    {
     "name": "stderr",
     "output_type": "stream",
     "text": [
      "Adversarial Training: 100%|██████████| 469/469 [00:57<00:00,  8.10it/s]\n",
      "Evaluating: 100%|█| 79/79 [00:10<00:00,  7.27it/s]\n"
     ]
    },
    {
     "name": "stdout",
     "output_type": "stream",
     "text": [
      "Epoch 2: Clean Acc = 0.9744, Robust Acc = 0.8801\n"
     ]
    },
    {
     "name": "stderr",
     "output_type": "stream",
     "text": [
      "Adversarial Training: 100%|██████████| 469/469 [00:57<00:00,  8.14it/s]\n",
      "Evaluating: 100%|█| 79/79 [00:11<00:00,  7.03it/s]\n"
     ]
    },
    {
     "name": "stdout",
     "output_type": "stream",
     "text": [
      "Epoch 3: Clean Acc = 0.9739, Robust Acc = 0.9120\n"
     ]
    },
    {
     "name": "stderr",
     "output_type": "stream",
     "text": [
      "Adversarial Training: 100%|██████████| 469/469 [00:57<00:00,  8.17it/s]\n",
      "Evaluating: 100%|█| 79/79 [00:11<00:00,  6.99it/s]\n"
     ]
    },
    {
     "name": "stdout",
     "output_type": "stream",
     "text": [
      "Epoch 4: Clean Acc = 0.9787, Robust Acc = 0.9119\n"
     ]
    },
    {
     "name": "stderr",
     "output_type": "stream",
     "text": [
      "Adversarial Training: 100%|██████████| 469/469 [00:57<00:00,  8.23it/s]\n",
      "Evaluating: 100%|█| 79/79 [00:11<00:00,  7.06it/s]\n"
     ]
    },
    {
     "name": "stdout",
     "output_type": "stream",
     "text": [
      "Epoch 5: Clean Acc = 0.9778, Robust Acc = 0.9267\n"
     ]
    },
    {
     "data": {
      "image/png": "[encoded data removed]",
      "text/plain": [
       "<Figure size 1000x400 with 2 Axes>"
      ]
     },
     "metadata": {},
     "output_type": "display_data"
    }
   ],
   "source": [
    "# 针对 C&W untargeted 攻击\n",
    "defender = AdversarialTrainingDefender(attacker_untargeted, model, augment_ratio=0.3, lr=5e-3)\n",
    "results = evaluate_defense(defender, test_loader, num_epochs=5)\n",
    "\n",
    "plt.figure(figsize=(10, 4))\n",
    "plt.subplot(1, 2, 1)\n",
    "plt.plot(results['train_loss'], label='Training Loss')\n",
    "plt.xlabel('Epoch')\n",
    "plt.ylabel('Loss')\n",
    "plt.title('Training Loss')\n",
    "\n",
    "plt.subplot(1, 2, 2)\n",
    "plt.plot(results['clean_acc'], label='Clean Accuracy')\n",
    "if 'robust_acc' in results:\n",
    "    plt.plot(results['robust_acc'], label='Robust Accuracy')\n",
    "plt.xlabel('Epoch')\n",
    "plt.ylabel('Accuracy')\n",
    "plt.legend()\n",
    "plt.title('Accuracy')\n",
    "plt.tight_layout()\n",
    "plt.show()"
   ]
  },
  {
   "cell_type": "code",
   "execution_count": 119,
   "metadata": {},
   "outputs": [
    {
     "name": "stderr",
     "output_type": "stream",
     "text": [
      "Adversarial Training: 100%|██████████| 469/469 [1:04:35<00:00,  8.26s/it]    \n",
      "Evaluating: 100%|█| 79/79 [01:43<00:00,  1.31s/it]\n"
     ]
    },
    {
     "name": "stdout",
     "output_type": "stream",
     "text": [
      "Epoch 1: Clean Acc = 0.9842, Robust Acc = 0.8666\n"
     ]
    },
    {
     "name": "stderr",
     "output_type": "stream",
     "text": [
      "Adversarial Training: 100%|██████████| 469/469 [16:10<00:00,  2.07s/it]   \n",
      "Evaluating: 100%|█| 79/79 [01:04<00:00,  1.22it/s]\n"
     ]
    },
    {
     "name": "stdout",
     "output_type": "stream",
     "text": [
      "Epoch 2: Clean Acc = 0.9838, Robust Acc = 0.8759\n"
     ]
    },
    {
     "name": "stderr",
     "output_type": "stream",
     "text": [
      "Adversarial Training: 100%|██████████| 469/469 [01:05<00:00,  7.12it/s]\n",
      "Evaluating: 100%|█| 79/79 [00:11<00:00,  7.04it/s]\n"
     ]
    },
    {
     "name": "stdout",
     "output_type": "stream",
     "text": [
      "Epoch 3: Clean Acc = 0.9849, Robust Acc = 0.8898\n"
     ]
    },
    {
     "name": "stderr",
     "output_type": "stream",
     "text": [
      "Adversarial Training: 100%|██████████| 469/469 [00:57<00:00,  8.20it/s]\n",
      "Evaluating: 100%|█| 79/79 [00:12<00:00,  6.46it/s]\n"
     ]
    },
    {
     "name": "stdout",
     "output_type": "stream",
     "text": [
      "Epoch 4: Clean Acc = 0.9847, Robust Acc = 0.8977\n"
     ]
    },
    {
     "name": "stderr",
     "output_type": "stream",
     "text": [
      "Adversarial Training: 100%|██████████| 469/469 [00:59<00:00,  7.86it/s]\n",
      "Evaluating: 100%|█| 79/79 [00:10<00:00,  7.64it/s]\n"
     ]
    },
    {
     "name": "stdout",
     "output_type": "stream",
     "text": [
      "Epoch 5: Clean Acc = 0.9835, Robust Acc = 0.8971\n"
     ]
    },
    {
     "name": "stderr",
     "output_type": "stream",
     "text": [
      "Adversarial Training: 100%|██████████| 469/469 [00:58<00:00,  8.03it/s]\n",
      "Evaluating: 100%|█| 79/79 [00:11<00:00,  6.97it/s]\n"
     ]
    },
    {
     "name": "stdout",
     "output_type": "stream",
     "text": [
      "Epoch 6: Clean Acc = 0.9848, Robust Acc = 0.9026\n"
     ]
    },
    {
     "name": "stderr",
     "output_type": "stream",
     "text": [
      "Adversarial Training: 100%|██████████| 469/469 [00:57<00:00,  8.10it/s]\n",
      "Evaluating: 100%|█| 79/79 [00:12<00:00,  6.51it/s]\n"
     ]
    },
    {
     "name": "stdout",
     "output_type": "stream",
     "text": [
      "Epoch 7: Clean Acc = 0.9848, Robust Acc = 0.9066\n"
     ]
    },
    {
     "name": "stderr",
     "output_type": "stream",
     "text": [
      "Adversarial Training: 100%|██████████| 469/469 [00:59<00:00,  7.87it/s]\n",
      "Evaluating: 100%|█| 79/79 [00:09<00:00,  7.95it/s]\n"
     ]
    },
    {
     "name": "stdout",
     "output_type": "stream",
     "text": [
      "Epoch 8: Clean Acc = 0.9852, Robust Acc = 0.9084\n"
     ]
    },
    {
     "name": "stderr",
     "output_type": "stream",
     "text": [
      "Adversarial Training: 100%|██████████| 469/469 [00:57<00:00,  8.17it/s]\n",
      "Evaluating: 100%|█| 79/79 [00:11<00:00,  6.80it/s]\n"
     ]
    },
    {
     "name": "stdout",
     "output_type": "stream",
     "text": [
      "Epoch 9: Clean Acc = 0.9842, Robust Acc = 0.9129\n"
     ]
    },
    {
     "name": "stderr",
     "output_type": "stream",
     "text": [
      "Adversarial Training: 100%|██████████| 469/469 [00:57<00:00,  8.14it/s]\n",
      "Evaluating: 100%|█| 79/79 [00:11<00:00,  6.72it/s]\n"
     ]
    },
    {
     "name": "stdout",
     "output_type": "stream",
     "text": [
      "Epoch 10: Clean Acc = 0.9853, Robust Acc = 0.9163\n"
     ]
    },
    {
     "data": {
      "image/png": "[encoded data removed]",
      "text/plain": [
       "<Figure size 1000x400 with 2 Axes>"
      ]
     },
     "metadata": {},
     "output_type": "display_data"
    }
   ],
   "source": [
    "# 针对 C&W targeted 攻击\n",
    "defender = AdversarialTrainingDefender(attacker_targeted, model, augment_ratio=0.3, lr=1e-4)\n",
    "results = evaluate_defense(defender, test_loader, num_epochs=10)\n",
    "\n",
    "plt.figure(figsize=(10, 4))\n",
    "plt.subplot(1, 2, 1)\n",
    "plt.plot(results['train_loss'], label='Training Loss')\n",
    "plt.xlabel('Epoch')\n",
    "plt.ylabel('Loss')\n",
    "plt.title('Training Loss')\n",
    "\n",
    "plt.subplot(1, 2, 2)\n",
    "plt.plot(results['clean_acc'], label='Clean Accuracy')\n",
    "if 'robust_acc' in results:\n",
    "    plt.plot(results['robust_acc'], label='Robust Accuracy')\n",
    "plt.xlabel('Epoch')\n",
    "plt.ylabel('Accuracy')\n",
    "plt.legend()\n",
    "plt.title('Accuracy')\n",
    "plt.tight_layout()\n",
    "plt.show()"
   ]
  },
  {
   "cell_type": "code",
   "execution_count": null,
   "metadata": {},
   "outputs": [],
   "source": []
  }
 ],
 "metadata": {
  "kernelspec": {
   "display_name": "Python 3 (ipykernel)",
   "language": "python",
   "name": "python3"
  },
  "language_info": {
   "codemirror_mode": {
    "name": "ipython",
    "version": 3
   },
   "file_extension": ".py",
   "mimetype": "text/x-python",
   "name": "python",
   "nbconvert_exporter": "python",
   "pygments_lexer": "ipython3",
   "version": "3.11.11"
  }
 },
 "nbformat": 4,
 "nbformat_minor": 4
}
