{
 "cells": [
  {
   "cell_type": "code",
   "execution_count": 1,
   "metadata": {
    "execution": {
     "iopub.execute_input": "2025-06-05T12:09:53.007489Z",
     "iopub.status.busy": "2025-06-05T12:09:53.007200Z",
     "iopub.status.idle": "2025-06-05T12:09:53.012804Z",
     "shell.execute_reply": "2025-06-05T12:09:53.012245Z",
     "shell.execute_reply.started": "2025-06-05T12:09:53.007472Z"
    },
    "tags": []
   },
   "outputs": [],
   "source": [
    "import json"
   ]
  },
  {
   "cell_type": "code",
   "execution_count": 4,
   "metadata": {
    "ExecutionIndicator": {
     "show": true
    },
    "execution": {
     "iopub.execute_input": "2025-06-05T12:10:40.249729Z",
     "iopub.status.busy": "2025-06-05T12:10:40.249437Z",
     "iopub.status.idle": "2025-06-05T12:10:40.254592Z",
     "shell.execute_reply": "2025-06-05T12:10:40.254145Z",
     "shell.execute_reply.started": "2025-06-05T12:10:40.249704Z"
    },
    "tags": []
   },
   "outputs": [
    {
     "name": "stdout",
     "output_type": "stream",
     "text": [
      "Accounting\t34\n",
      "Agriculture\t33\n",
      "Art\t34\n",
      "Electronics\t34\n",
      "Music\t28\n"
     ]
    }
   ],
   "source": [
    "data_stat = {}\n",
    "with open('mmmu_cls/mmmu_cls.jsonl') as f:\n",
    "    for line in f:\n",
    "        data = json.loads(line)\n",
    "        label = data['label']\n",
    "        if label not in data_stat:\n",
    "            data_stat[label] = 0\n",
    "        else:\n",
    "            data_stat[label] += 1\n",
    "        \n",
    "for k,v in data_stat.items():\n",
    "    print(k+'\\t'+str(v))"
   ]
  },
  {
   "cell_type": "code",
   "execution_count": null,
   "metadata": {},
   "outputs": [],
   "source": []
  }
 ],
 "metadata": {
  "kernelspec": {
   "display_name": "Python 3 (ipykernel)",
   "language": "python",
   "name": "python3"
  },
  "language_info": {
   "codemirror_mode": {
    "name": "ipython",
    "version": 3
   },
   "file_extension": ".py",
   "mimetype": "text/x-python",
   "name": "python",
   "nbconvert_exporter": "python",
   "pygments_lexer": "ipython3",
   "version": "3.11.11"
  }
 },
 "nbformat": 4,
 "nbformat_minor": 4
}
